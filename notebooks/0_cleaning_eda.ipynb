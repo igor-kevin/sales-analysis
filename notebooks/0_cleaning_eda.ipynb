{
 "cells": [
  {
   "cell_type": "markdown",
   "id": "108ba5f8",
   "metadata": {},
   "source": [
    "# Limpeza e EDA dos dados recebidos\n"
   ]
  },
  {
   "cell_type": "markdown",
   "id": "f2dcbedb",
   "metadata": {},
   "source": [
    "## Imports"
   ]
  },
  {
   "cell_type": "code",
   "execution_count": 1,
   "id": "27bbd158",
   "metadata": {},
   "outputs": [],
   "source": [
    "import pandas as pd\n",
    "import numpy as np\n",
    "import matplotlib.pyplot as plt\n",
    "import seaborn as sns"
   ]
  },
  {
   "cell_type": "markdown",
   "id": "fb393719",
   "metadata": {},
   "source": [
    "## Leitura e carregamento dos dados"
   ]
  },
  {
   "cell_type": "code",
   "execution_count": 2,
   "id": "b2440a65",
   "metadata": {},
   "outputs": [
    {
     "data": {
      "application/vnd.microsoft.datawrangler.viewer.v0+json": {
       "columns": [
        {
         "name": "index",
         "rawType": "int64",
         "type": "integer"
        },
        {
         "name": "Data",
         "rawType": "object",
         "type": "string"
        },
        {
         "name": "Produto",
         "rawType": "object",
         "type": "string"
        },
        {
         "name": "Quantidade",
         "rawType": "float64",
         "type": "float"
        },
        {
         "name": "ValorMedio",
         "rawType": "float64",
         "type": "float"
        },
        {
         "name": "Total",
         "rawType": "float64",
         "type": "float"
        },
        {
         "name": "Func",
         "rawType": "int64",
         "type": "integer"
        },
        {
         "name": "Ndoc",
         "rawType": "int64",
         "type": "integer"
        },
        {
         "name": "Tipo",
         "rawType": "object",
         "type": "string"
        },
        {
         "name": "CST",
         "rawType": "int64",
         "type": "integer"
        },
        {
         "name": "NCM",
         "rawType": "int64",
         "type": "integer"
        },
        {
         "name": "Codigo",
         "rawType": "int64",
         "type": "integer"
        },
        {
         "name": "Categoria",
         "rawType": "object",
         "type": "string"
        }
       ],
       "ref": "e055cdc8-b033-413d-9f52-bcff5429665d",
       "rows": [
        [
         "0",
         "2015-01-02",
         "OLEO SELENIA SPRINTA 4T 20W-50",
         "1.0",
         "11.7",
         "11.7",
         "4",
         "24039",
         "C",
         "60",
         "27101932",
         "913",
         "OLEO"
        ],
        [
         "1",
         "2015-01-02",
         "PNEU TRAS. BIZ LEVORIN DAKA 80/100X14",
         "1.0",
         "109.25",
         "109.25",
         "3",
         "24049",
         "C",
         "60",
         "40114000",
         "829",
         "PNEU"
        ],
        [
         "2",
         "2015-01-02",
         "CAMARA AR CG/TITAN LEVORIN (SA 18)",
         "1.0",
         "24.61",
         "24.61",
         "4",
         "24039",
         "C",
         "60",
         "40139000",
         "442",
         "CAMARA"
        ],
        [
         "3",
         "2015-01-02",
         "CAMARA AR TRAS. BROS/XLR 250 PIRELLI",
         "1.0",
         "37.75",
         "37.75",
         "4",
         "24043",
         "C",
         "60",
         "40139000",
         "1376",
         "CAMARA"
        ],
        [
         "4",
         "2015-01-02",
         "CABO EMB. KS/ES 2002/08 FAN IMP/CG-83",
         "1.0",
         "10.39",
         "10.39",
         "3",
         "24037",
         "C",
         "60",
         "84831030",
         "2146",
         "CABO"
        ]
       ],
       "shape": {
        "columns": 12,
        "rows": 5
       }
      },
      "text/html": [
       "<div>\n",
       "<style scoped>\n",
       "    .dataframe tbody tr th:only-of-type {\n",
       "        vertical-align: middle;\n",
       "    }\n",
       "\n",
       "    .dataframe tbody tr th {\n",
       "        vertical-align: top;\n",
       "    }\n",
       "\n",
       "    .dataframe thead th {\n",
       "        text-align: right;\n",
       "    }\n",
       "</style>\n",
       "<table border=\"1\" class=\"dataframe\">\n",
       "  <thead>\n",
       "    <tr style=\"text-align: right;\">\n",
       "      <th></th>\n",
       "      <th>Data</th>\n",
       "      <th>Produto</th>\n",
       "      <th>Quantidade</th>\n",
       "      <th>ValorMedio</th>\n",
       "      <th>Total</th>\n",
       "      <th>Func</th>\n",
       "      <th>Ndoc</th>\n",
       "      <th>Tipo</th>\n",
       "      <th>CST</th>\n",
       "      <th>NCM</th>\n",
       "      <th>Codigo</th>\n",
       "      <th>Categoria</th>\n",
       "    </tr>\n",
       "  </thead>\n",
       "  <tbody>\n",
       "    <tr>\n",
       "      <th>0</th>\n",
       "      <td>2015-01-02</td>\n",
       "      <td>OLEO SELENIA SPRINTA 4T 20W-50</td>\n",
       "      <td>1.0</td>\n",
       "      <td>11.70</td>\n",
       "      <td>11.70</td>\n",
       "      <td>4</td>\n",
       "      <td>24039</td>\n",
       "      <td>C</td>\n",
       "      <td>60</td>\n",
       "      <td>27101932</td>\n",
       "      <td>913</td>\n",
       "      <td>OLEO</td>\n",
       "    </tr>\n",
       "    <tr>\n",
       "      <th>1</th>\n",
       "      <td>2015-01-02</td>\n",
       "      <td>PNEU TRAS. BIZ LEVORIN DAKA 80/100X14</td>\n",
       "      <td>1.0</td>\n",
       "      <td>109.25</td>\n",
       "      <td>109.25</td>\n",
       "      <td>3</td>\n",
       "      <td>24049</td>\n",
       "      <td>C</td>\n",
       "      <td>60</td>\n",
       "      <td>40114000</td>\n",
       "      <td>829</td>\n",
       "      <td>PNEU</td>\n",
       "    </tr>\n",
       "    <tr>\n",
       "      <th>2</th>\n",
       "      <td>2015-01-02</td>\n",
       "      <td>CAMARA AR CG/TITAN LEVORIN (SA 18)</td>\n",
       "      <td>1.0</td>\n",
       "      <td>24.61</td>\n",
       "      <td>24.61</td>\n",
       "      <td>4</td>\n",
       "      <td>24039</td>\n",
       "      <td>C</td>\n",
       "      <td>60</td>\n",
       "      <td>40139000</td>\n",
       "      <td>442</td>\n",
       "      <td>CAMARA</td>\n",
       "    </tr>\n",
       "    <tr>\n",
       "      <th>3</th>\n",
       "      <td>2015-01-02</td>\n",
       "      <td>CAMARA AR TRAS. BROS/XLR 250 PIRELLI</td>\n",
       "      <td>1.0</td>\n",
       "      <td>37.75</td>\n",
       "      <td>37.75</td>\n",
       "      <td>4</td>\n",
       "      <td>24043</td>\n",
       "      <td>C</td>\n",
       "      <td>60</td>\n",
       "      <td>40139000</td>\n",
       "      <td>1376</td>\n",
       "      <td>CAMARA</td>\n",
       "    </tr>\n",
       "    <tr>\n",
       "      <th>4</th>\n",
       "      <td>2015-01-02</td>\n",
       "      <td>CABO EMB. KS/ES 2002/08 FAN IMP/CG-83</td>\n",
       "      <td>1.0</td>\n",
       "      <td>10.39</td>\n",
       "      <td>10.39</td>\n",
       "      <td>3</td>\n",
       "      <td>24037</td>\n",
       "      <td>C</td>\n",
       "      <td>60</td>\n",
       "      <td>84831030</td>\n",
       "      <td>2146</td>\n",
       "      <td>CABO</td>\n",
       "    </tr>\n",
       "  </tbody>\n",
       "</table>\n",
       "</div>"
      ],
      "text/plain": [
       "         Data                                Produto  Quantidade  ValorMedio  \\\n",
       "0  2015-01-02         OLEO SELENIA SPRINTA 4T 20W-50         1.0       11.70   \n",
       "1  2015-01-02  PNEU TRAS. BIZ LEVORIN DAKA 80/100X14         1.0      109.25   \n",
       "2  2015-01-02     CAMARA AR CG/TITAN LEVORIN (SA 18)         1.0       24.61   \n",
       "3  2015-01-02   CAMARA AR TRAS. BROS/XLR 250 PIRELLI         1.0       37.75   \n",
       "4  2015-01-02  CABO EMB. KS/ES 2002/08 FAN IMP/CG-83         1.0       10.39   \n",
       "\n",
       "    Total  Func   Ndoc Tipo  CST       NCM  Codigo Categoria  \n",
       "0   11.70     4  24039    C   60  27101932     913      OLEO  \n",
       "1  109.25     3  24049    C   60  40114000     829      PNEU  \n",
       "2   24.61     4  24039    C   60  40139000     442    CAMARA  \n",
       "3   37.75     4  24043    C   60  40139000    1376    CAMARA  \n",
       "4   10.39     3  24037    C   60  84831030    2146      CABO  "
      ]
     },
     "execution_count": 2,
     "metadata": {},
     "output_type": "execute_result"
    }
   ],
   "source": [
    "df = pd.read_csv('../data/vendas_jittered.csv')\n",
    "df.head()"
   ]
  },
  {
   "cell_type": "markdown",
   "id": "698c882f",
   "metadata": {},
   "source": [
    "## Análise"
   ]
  },
  {
   "cell_type": "markdown",
   "id": "ef567b21",
   "metadata": {},
   "source": [
    "### Início da análise estrutural dos dados"
   ]
  },
  {
   "cell_type": "code",
   "execution_count": 3,
   "id": "dc8d5c3a",
   "metadata": {},
   "outputs": [
    {
     "name": "stdout",
     "output_type": "stream",
     "text": [
      "<class 'pandas.core.frame.DataFrame'>\n",
      "RangeIndex: 255895 entries, 0 to 255894\n",
      "Data columns (total 12 columns):\n",
      " #   Column      Non-Null Count   Dtype  \n",
      "---  ------      --------------   -----  \n",
      " 0   Data        255895 non-null  object \n",
      " 1   Produto     255895 non-null  object \n",
      " 2   Quantidade  255895 non-null  float64\n",
      " 3   ValorMedio  255895 non-null  float64\n",
      " 4   Total       255895 non-null  float64\n",
      " 5   Func        255895 non-null  int64  \n",
      " 6   Ndoc        255895 non-null  int64  \n",
      " 7   Tipo        255895 non-null  object \n",
      " 8   CST         255895 non-null  int64  \n",
      " 9   NCM         255895 non-null  int64  \n",
      " 10  Codigo      255895 non-null  int64  \n",
      " 11  Categoria   255895 non-null  object \n",
      "dtypes: float64(3), int64(5), object(4)\n",
      "memory usage: 23.4+ MB\n"
     ]
    }
   ],
   "source": [
    "df.info()"
   ]
  },
  {
   "cell_type": "code",
   "execution_count": 4,
   "id": "e2cb90b1",
   "metadata": {},
   "outputs": [
    {
     "data": {
      "application/vnd.microsoft.datawrangler.viewer.v0+json": {
       "columns": [
        {
         "name": "index",
         "rawType": "object",
         "type": "string"
        },
        {
         "name": "Quantidade",
         "rawType": "float64",
         "type": "float"
        },
        {
         "name": "ValorMedio",
         "rawType": "float64",
         "type": "float"
        },
        {
         "name": "Total",
         "rawType": "float64",
         "type": "float"
        },
        {
         "name": "Func",
         "rawType": "float64",
         "type": "float"
        },
        {
         "name": "Ndoc",
         "rawType": "float64",
         "type": "float"
        },
        {
         "name": "CST",
         "rawType": "float64",
         "type": "float"
        },
        {
         "name": "NCM",
         "rawType": "float64",
         "type": "float"
        },
        {
         "name": "Codigo",
         "rawType": "float64",
         "type": "float"
        }
       ],
       "ref": "4905d08b-059e-4dda-953a-e3afa7f4af2f",
       "rows": [
        [
         "count",
         "255895.0",
         "255895.0",
         "255895.0",
         "255895.0",
         "255895.0",
         "255895.0",
         "255895.0",
         "255895.0"
        ],
        [
         "mean",
         "1.2781101662791379",
         "21.95493272631353",
         "23.40621584095039",
         "3.636096836593134",
         "67053.5547744192",
         "58.28961878895641",
         "68956409.07553488",
         "3055.969561734305"
        ],
        [
         "std",
         "1.0951988231457852",
         "35.574052603809044",
         "38.087844929922824",
         "1.0098036281820448",
         "51968.2506556804",
         "10.749342985013497",
         "22575127.66650423",
         "2518.0625019071963"
        ],
        [
         "min",
         "1.0",
         "0.1",
         "0.1",
         "0.0",
         "1.0",
         "0.0",
         "27101931.0",
         "1.0"
        ],
        [
         "25%",
         "1.0",
         "3.89",
         "4.66",
         "3.0",
         "17108.0",
         "60.0",
         "40169300.0",
         "787.0"
        ],
        [
         "50%",
         "1.0",
         "11.22",
         "12.3",
         "4.0",
         "60796.0",
         "60.0",
         "84213100.0",
         "2635.0"
        ],
        [
         "75%",
         "1.0",
         "22.6",
         "23.66",
         "4.0",
         "111154.5",
         "60.0",
         "87141000.0",
         "5060.0"
        ],
        [
         "max",
         "178.0",
         "762.31",
         "1699.08",
         "9.0",
         "166092.0",
         "260.0",
         "96139000.0",
         "8971.0"
        ]
       ],
       "shape": {
        "columns": 8,
        "rows": 8
       }
      },
      "text/html": [
       "<div>\n",
       "<style scoped>\n",
       "    .dataframe tbody tr th:only-of-type {\n",
       "        vertical-align: middle;\n",
       "    }\n",
       "\n",
       "    .dataframe tbody tr th {\n",
       "        vertical-align: top;\n",
       "    }\n",
       "\n",
       "    .dataframe thead th {\n",
       "        text-align: right;\n",
       "    }\n",
       "</style>\n",
       "<table border=\"1\" class=\"dataframe\">\n",
       "  <thead>\n",
       "    <tr style=\"text-align: right;\">\n",
       "      <th></th>\n",
       "      <th>Quantidade</th>\n",
       "      <th>ValorMedio</th>\n",
       "      <th>Total</th>\n",
       "      <th>Func</th>\n",
       "      <th>Ndoc</th>\n",
       "      <th>CST</th>\n",
       "      <th>NCM</th>\n",
       "      <th>Codigo</th>\n",
       "    </tr>\n",
       "  </thead>\n",
       "  <tbody>\n",
       "    <tr>\n",
       "      <th>count</th>\n",
       "      <td>255895.000000</td>\n",
       "      <td>255895.000000</td>\n",
       "      <td>255895.000000</td>\n",
       "      <td>255895.000000</td>\n",
       "      <td>255895.000000</td>\n",
       "      <td>255895.000000</td>\n",
       "      <td>2.558950e+05</td>\n",
       "      <td>255895.000000</td>\n",
       "    </tr>\n",
       "    <tr>\n",
       "      <th>mean</th>\n",
       "      <td>1.278110</td>\n",
       "      <td>21.954933</td>\n",
       "      <td>23.406216</td>\n",
       "      <td>3.636097</td>\n",
       "      <td>67053.554774</td>\n",
       "      <td>58.289619</td>\n",
       "      <td>6.895641e+07</td>\n",
       "      <td>3055.969562</td>\n",
       "    </tr>\n",
       "    <tr>\n",
       "      <th>std</th>\n",
       "      <td>1.095199</td>\n",
       "      <td>35.574053</td>\n",
       "      <td>38.087845</td>\n",
       "      <td>1.009804</td>\n",
       "      <td>51968.250656</td>\n",
       "      <td>10.749343</td>\n",
       "      <td>2.257513e+07</td>\n",
       "      <td>2518.062502</td>\n",
       "    </tr>\n",
       "    <tr>\n",
       "      <th>min</th>\n",
       "      <td>1.000000</td>\n",
       "      <td>0.100000</td>\n",
       "      <td>0.100000</td>\n",
       "      <td>0.000000</td>\n",
       "      <td>1.000000</td>\n",
       "      <td>0.000000</td>\n",
       "      <td>2.710193e+07</td>\n",
       "      <td>1.000000</td>\n",
       "    </tr>\n",
       "    <tr>\n",
       "      <th>25%</th>\n",
       "      <td>1.000000</td>\n",
       "      <td>3.890000</td>\n",
       "      <td>4.660000</td>\n",
       "      <td>3.000000</td>\n",
       "      <td>17108.000000</td>\n",
       "      <td>60.000000</td>\n",
       "      <td>4.016930e+07</td>\n",
       "      <td>787.000000</td>\n",
       "    </tr>\n",
       "    <tr>\n",
       "      <th>50%</th>\n",
       "      <td>1.000000</td>\n",
       "      <td>11.220000</td>\n",
       "      <td>12.300000</td>\n",
       "      <td>4.000000</td>\n",
       "      <td>60796.000000</td>\n",
       "      <td>60.000000</td>\n",
       "      <td>8.421310e+07</td>\n",
       "      <td>2635.000000</td>\n",
       "    </tr>\n",
       "    <tr>\n",
       "      <th>75%</th>\n",
       "      <td>1.000000</td>\n",
       "      <td>22.600000</td>\n",
       "      <td>23.660000</td>\n",
       "      <td>4.000000</td>\n",
       "      <td>111154.500000</td>\n",
       "      <td>60.000000</td>\n",
       "      <td>8.714100e+07</td>\n",
       "      <td>5060.000000</td>\n",
       "    </tr>\n",
       "    <tr>\n",
       "      <th>max</th>\n",
       "      <td>178.000000</td>\n",
       "      <td>762.310000</td>\n",
       "      <td>1699.080000</td>\n",
       "      <td>9.000000</td>\n",
       "      <td>166092.000000</td>\n",
       "      <td>260.000000</td>\n",
       "      <td>9.613900e+07</td>\n",
       "      <td>8971.000000</td>\n",
       "    </tr>\n",
       "  </tbody>\n",
       "</table>\n",
       "</div>"
      ],
      "text/plain": [
       "          Quantidade     ValorMedio          Total           Func  \\\n",
       "count  255895.000000  255895.000000  255895.000000  255895.000000   \n",
       "mean        1.278110      21.954933      23.406216       3.636097   \n",
       "std         1.095199      35.574053      38.087845       1.009804   \n",
       "min         1.000000       0.100000       0.100000       0.000000   \n",
       "25%         1.000000       3.890000       4.660000       3.000000   \n",
       "50%         1.000000      11.220000      12.300000       4.000000   \n",
       "75%         1.000000      22.600000      23.660000       4.000000   \n",
       "max       178.000000     762.310000    1699.080000       9.000000   \n",
       "\n",
       "                Ndoc            CST           NCM         Codigo  \n",
       "count  255895.000000  255895.000000  2.558950e+05  255895.000000  \n",
       "mean    67053.554774      58.289619  6.895641e+07    3055.969562  \n",
       "std     51968.250656      10.749343  2.257513e+07    2518.062502  \n",
       "min         1.000000       0.000000  2.710193e+07       1.000000  \n",
       "25%     17108.000000      60.000000  4.016930e+07     787.000000  \n",
       "50%     60796.000000      60.000000  8.421310e+07    2635.000000  \n",
       "75%    111154.500000      60.000000  8.714100e+07    5060.000000  \n",
       "max    166092.000000     260.000000  9.613900e+07    8971.000000  "
      ]
     },
     "execution_count": 4,
     "metadata": {},
     "output_type": "execute_result"
    }
   ],
   "source": [
    "df.describe()"
   ]
  },
  {
   "cell_type": "markdown",
   "id": "71d1ecdc",
   "metadata": {},
   "source": [
    "Analisando a coluna quantidade, podemos ver que até o terceiro quartil temos o valor 1, o que indica que grande parte dos itens são vendidos em unidade.\n",
    "Já o valor Médio, podemos ver que, em média, os valores não são altos.\n",
    "Com essas duas informações já sabemos, também, que o valor total, em média, não será muito elevado, o que se confirma.\n"
   ]
  },
  {
   "cell_type": "code",
   "execution_count": 5,
   "id": "703dfa3b",
   "metadata": {},
   "outputs": [
    {
     "data": {
      "application/vnd.microsoft.datawrangler.viewer.v0+json": {
       "columns": [
        {
         "name": "index",
         "rawType": "object",
         "type": "string"
        },
        {
         "name": "Data",
         "rawType": "object",
         "type": "unknown"
        },
        {
         "name": "Produto",
         "rawType": "object",
         "type": "unknown"
        },
        {
         "name": "Tipo",
         "rawType": "object",
         "type": "unknown"
        },
        {
         "name": "Categoria",
         "rawType": "object",
         "type": "unknown"
        }
       ],
       "ref": "07ff53fe-94e9-4275-94c3-70a3e38e087f",
       "rows": [
        [
         "count",
         "255895",
         "255895",
         "255895",
         "255895"
        ],
        [
         "unique",
         "3054",
         "6582",
         "2",
         "223"
        ],
        [
         "top",
         "2016-09-02",
         "OLEO SELENIA SPRINTA 4T 20W-50",
         "P",
         "OLEO"
        ],
        [
         "freq",
         "286",
         "8937",
         "163009",
         "24361"
        ]
       ],
       "shape": {
        "columns": 4,
        "rows": 4
       }
      },
      "text/html": [
       "<div>\n",
       "<style scoped>\n",
       "    .dataframe tbody tr th:only-of-type {\n",
       "        vertical-align: middle;\n",
       "    }\n",
       "\n",
       "    .dataframe tbody tr th {\n",
       "        vertical-align: top;\n",
       "    }\n",
       "\n",
       "    .dataframe thead th {\n",
       "        text-align: right;\n",
       "    }\n",
       "</style>\n",
       "<table border=\"1\" class=\"dataframe\">\n",
       "  <thead>\n",
       "    <tr style=\"text-align: right;\">\n",
       "      <th></th>\n",
       "      <th>Data</th>\n",
       "      <th>Produto</th>\n",
       "      <th>Tipo</th>\n",
       "      <th>Categoria</th>\n",
       "    </tr>\n",
       "  </thead>\n",
       "  <tbody>\n",
       "    <tr>\n",
       "      <th>count</th>\n",
       "      <td>255895</td>\n",
       "      <td>255895</td>\n",
       "      <td>255895</td>\n",
       "      <td>255895</td>\n",
       "    </tr>\n",
       "    <tr>\n",
       "      <th>unique</th>\n",
       "      <td>3054</td>\n",
       "      <td>6582</td>\n",
       "      <td>2</td>\n",
       "      <td>223</td>\n",
       "    </tr>\n",
       "    <tr>\n",
       "      <th>top</th>\n",
       "      <td>2016-09-02</td>\n",
       "      <td>OLEO SELENIA SPRINTA 4T 20W-50</td>\n",
       "      <td>P</td>\n",
       "      <td>OLEO</td>\n",
       "    </tr>\n",
       "    <tr>\n",
       "      <th>freq</th>\n",
       "      <td>286</td>\n",
       "      <td>8937</td>\n",
       "      <td>163009</td>\n",
       "      <td>24361</td>\n",
       "    </tr>\n",
       "  </tbody>\n",
       "</table>\n",
       "</div>"
      ],
      "text/plain": [
       "              Data                         Produto    Tipo Categoria\n",
       "count       255895                          255895  255895    255895\n",
       "unique        3054                            6582       2       223\n",
       "top     2016-09-02  OLEO SELENIA SPRINTA 4T 20W-50       P      OLEO\n",
       "freq           286                            8937  163009     24361"
      ]
     },
     "execution_count": 5,
     "metadata": {},
     "output_type": "execute_result"
    }
   ],
   "source": [
    "df.describe(include='object')"
   ]
  },
  {
   "cell_type": "markdown",
   "id": "7389a366",
   "metadata": {},
   "source": [
    "### Remoção de colunas que não utilizaremos\n",
    "Não utilizaremos as colunas NCM e CST"
   ]
  },
  {
   "cell_type": "code",
   "execution_count": 6,
   "id": "b3bb63fe",
   "metadata": {},
   "outputs": [],
   "source": [
    "df.drop(columns=['CST', 'NCM'], inplace=True)"
   ]
  },
  {
   "cell_type": "markdown",
   "id": "ee11a6b2",
   "metadata": {},
   "source": [
    "### Conversão dos dados necessários\n",
    "\n",
    "Podemos ver que temos que categorizar os Funcinoários (não queremos simular uma hierarquia entre eles), converter Data para datetime e mudar quantidade para valores inteiros, não se vende \"valores quebrados\" de peças."
   ]
  },
  {
   "cell_type": "code",
   "execution_count": 7,
   "id": "4b05e328",
   "metadata": {},
   "outputs": [],
   "source": [
    "df['Func'] = df['Func'].astype('category')\n",
    "df['Data'] = pd.to_datetime(df['Data'], format='%Y-%m-%d')"
   ]
  },
  {
   "cell_type": "code",
   "execution_count": 8,
   "id": "d5eb16aa",
   "metadata": {},
   "outputs": [
    {
     "data": {
      "application/vnd.microsoft.datawrangler.viewer.v0+json": {
       "columns": [
        {
         "name": "index",
         "rawType": "int64",
         "type": "integer"
        },
        {
         "name": "Data",
         "rawType": "datetime64[ns]",
         "type": "datetime"
        },
        {
         "name": "Produto",
         "rawType": "object",
         "type": "string"
        },
        {
         "name": "Quantidade",
         "rawType": "float64",
         "type": "float"
        },
        {
         "name": "ValorMedio",
         "rawType": "float64",
         "type": "float"
        },
        {
         "name": "Total",
         "rawType": "float64",
         "type": "float"
        },
        {
         "name": "Func",
         "rawType": "category",
         "type": "unknown"
        },
        {
         "name": "Ndoc",
         "rawType": "int64",
         "type": "integer"
        },
        {
         "name": "Tipo",
         "rawType": "object",
         "type": "string"
        },
        {
         "name": "Codigo",
         "rawType": "int64",
         "type": "integer"
        },
        {
         "name": "Categoria",
         "rawType": "object",
         "type": "string"
        }
       ],
       "ref": "9012c925-e322-4eb9-acb1-23728e330018",
       "rows": [
        [
         "0",
         "2015-01-02 00:00:00",
         "OLEO SELENIA SPRINTA 4T 20W-50",
         "1.0",
         "11.7",
         "11.7",
         "4",
         "24039",
         "C",
         "913",
         "OLEO"
        ],
        [
         "1",
         "2015-01-02 00:00:00",
         "PNEU TRAS. BIZ LEVORIN DAKA 80/100X14",
         "1.0",
         "109.25",
         "109.25",
         "3",
         "24049",
         "C",
         "829",
         "PNEU"
        ],
        [
         "2",
         "2015-01-02 00:00:00",
         "CAMARA AR CG/TITAN LEVORIN (SA 18)",
         "1.0",
         "24.61",
         "24.61",
         "4",
         "24039",
         "C",
         "442",
         "CAMARA"
        ],
        [
         "3",
         "2015-01-02 00:00:00",
         "CAMARA AR TRAS. BROS/XLR 250 PIRELLI",
         "1.0",
         "37.75",
         "37.75",
         "4",
         "24043",
         "C",
         "1376",
         "CAMARA"
        ],
        [
         "4",
         "2015-01-02 00:00:00",
         "CABO EMB. KS/ES 2002/08 FAN IMP/CG-83",
         "1.0",
         "10.39",
         "10.39",
         "3",
         "24037",
         "C",
         "2146",
         "CABO"
        ]
       ],
       "shape": {
        "columns": 10,
        "rows": 5
       }
      },
      "text/html": [
       "<div>\n",
       "<style scoped>\n",
       "    .dataframe tbody tr th:only-of-type {\n",
       "        vertical-align: middle;\n",
       "    }\n",
       "\n",
       "    .dataframe tbody tr th {\n",
       "        vertical-align: top;\n",
       "    }\n",
       "\n",
       "    .dataframe thead th {\n",
       "        text-align: right;\n",
       "    }\n",
       "</style>\n",
       "<table border=\"1\" class=\"dataframe\">\n",
       "  <thead>\n",
       "    <tr style=\"text-align: right;\">\n",
       "      <th></th>\n",
       "      <th>Data</th>\n",
       "      <th>Produto</th>\n",
       "      <th>Quantidade</th>\n",
       "      <th>ValorMedio</th>\n",
       "      <th>Total</th>\n",
       "      <th>Func</th>\n",
       "      <th>Ndoc</th>\n",
       "      <th>Tipo</th>\n",
       "      <th>Codigo</th>\n",
       "      <th>Categoria</th>\n",
       "    </tr>\n",
       "  </thead>\n",
       "  <tbody>\n",
       "    <tr>\n",
       "      <th>0</th>\n",
       "      <td>2015-01-02</td>\n",
       "      <td>OLEO SELENIA SPRINTA 4T 20W-50</td>\n",
       "      <td>1.0</td>\n",
       "      <td>11.70</td>\n",
       "      <td>11.70</td>\n",
       "      <td>4</td>\n",
       "      <td>24039</td>\n",
       "      <td>C</td>\n",
       "      <td>913</td>\n",
       "      <td>OLEO</td>\n",
       "    </tr>\n",
       "    <tr>\n",
       "      <th>1</th>\n",
       "      <td>2015-01-02</td>\n",
       "      <td>PNEU TRAS. BIZ LEVORIN DAKA 80/100X14</td>\n",
       "      <td>1.0</td>\n",
       "      <td>109.25</td>\n",
       "      <td>109.25</td>\n",
       "      <td>3</td>\n",
       "      <td>24049</td>\n",
       "      <td>C</td>\n",
       "      <td>829</td>\n",
       "      <td>PNEU</td>\n",
       "    </tr>\n",
       "    <tr>\n",
       "      <th>2</th>\n",
       "      <td>2015-01-02</td>\n",
       "      <td>CAMARA AR CG/TITAN LEVORIN (SA 18)</td>\n",
       "      <td>1.0</td>\n",
       "      <td>24.61</td>\n",
       "      <td>24.61</td>\n",
       "      <td>4</td>\n",
       "      <td>24039</td>\n",
       "      <td>C</td>\n",
       "      <td>442</td>\n",
       "      <td>CAMARA</td>\n",
       "    </tr>\n",
       "    <tr>\n",
       "      <th>3</th>\n",
       "      <td>2015-01-02</td>\n",
       "      <td>CAMARA AR TRAS. BROS/XLR 250 PIRELLI</td>\n",
       "      <td>1.0</td>\n",
       "      <td>37.75</td>\n",
       "      <td>37.75</td>\n",
       "      <td>4</td>\n",
       "      <td>24043</td>\n",
       "      <td>C</td>\n",
       "      <td>1376</td>\n",
       "      <td>CAMARA</td>\n",
       "    </tr>\n",
       "    <tr>\n",
       "      <th>4</th>\n",
       "      <td>2015-01-02</td>\n",
       "      <td>CABO EMB. KS/ES 2002/08 FAN IMP/CG-83</td>\n",
       "      <td>1.0</td>\n",
       "      <td>10.39</td>\n",
       "      <td>10.39</td>\n",
       "      <td>3</td>\n",
       "      <td>24037</td>\n",
       "      <td>C</td>\n",
       "      <td>2146</td>\n",
       "      <td>CABO</td>\n",
       "    </tr>\n",
       "  </tbody>\n",
       "</table>\n",
       "</div>"
      ],
      "text/plain": [
       "        Data                                Produto  Quantidade  ValorMedio  \\\n",
       "0 2015-01-02         OLEO SELENIA SPRINTA 4T 20W-50         1.0       11.70   \n",
       "1 2015-01-02  PNEU TRAS. BIZ LEVORIN DAKA 80/100X14         1.0      109.25   \n",
       "2 2015-01-02     CAMARA AR CG/TITAN LEVORIN (SA 18)         1.0       24.61   \n",
       "3 2015-01-02   CAMARA AR TRAS. BROS/XLR 250 PIRELLI         1.0       37.75   \n",
       "4 2015-01-02  CABO EMB. KS/ES 2002/08 FAN IMP/CG-83         1.0       10.39   \n",
       "\n",
       "    Total Func   Ndoc Tipo  Codigo Categoria  \n",
       "0   11.70    4  24039    C     913      OLEO  \n",
       "1  109.25    3  24049    C     829      PNEU  \n",
       "2   24.61    4  24039    C     442    CAMARA  \n",
       "3   37.75    4  24043    C    1376    CAMARA  \n",
       "4   10.39    3  24037    C    2146      CABO  "
      ]
     },
     "execution_count": 8,
     "metadata": {},
     "output_type": "execute_result"
    }
   ],
   "source": [
    "df.head()"
   ]
  },
  {
   "cell_type": "code",
   "execution_count": 9,
   "id": "b913b4be",
   "metadata": {},
   "outputs": [],
   "source": [
    "df['Quantidade'] = df['Quantidade'].astype(int)"
   ]
  },
  {
   "cell_type": "code",
   "execution_count": 10,
   "id": "a7018ff1",
   "metadata": {},
   "outputs": [
    {
     "name": "stdout",
     "output_type": "stream",
     "text": [
      "<class 'pandas.core.frame.DataFrame'>\n",
      "RangeIndex: 255895 entries, 0 to 255894\n",
      "Data columns (total 10 columns):\n",
      " #   Column      Non-Null Count   Dtype         \n",
      "---  ------      --------------   -----         \n",
      " 0   Data        255895 non-null  datetime64[ns]\n",
      " 1   Produto     255895 non-null  object        \n",
      " 2   Quantidade  255895 non-null  int64         \n",
      " 3   ValorMedio  255895 non-null  float64       \n",
      " 4   Total       255895 non-null  float64       \n",
      " 5   Func        255895 non-null  category      \n",
      " 6   Ndoc        255895 non-null  int64         \n",
      " 7   Tipo        255895 non-null  object        \n",
      " 8   Codigo      255895 non-null  int64         \n",
      " 9   Categoria   255895 non-null  object        \n",
      "dtypes: category(1), datetime64[ns](1), float64(2), int64(3), object(3)\n",
      "memory usage: 17.8+ MB\n"
     ]
    }
   ],
   "source": [
    "df.info()"
   ]
  },
  {
   "cell_type": "markdown",
   "id": "070942be",
   "metadata": {},
   "source": [
    "### Contagem dos valores nulos"
   ]
  },
  {
   "cell_type": "code",
   "execution_count": 11,
   "id": "bfb4adc1",
   "metadata": {},
   "outputs": [
    {
     "data": {
      "application/vnd.microsoft.datawrangler.viewer.v0+json": {
       "columns": [
        {
         "name": "index",
         "rawType": "object",
         "type": "string"
        },
        {
         "name": "0",
         "rawType": "int64",
         "type": "integer"
        }
       ],
       "ref": "5c39bbbd-8450-44b2-ae63-ab57d9705ea5",
       "rows": [
        [
         "Data",
         "0"
        ],
        [
         "Produto",
         "0"
        ],
        [
         "Quantidade",
         "0"
        ],
        [
         "ValorMedio",
         "0"
        ],
        [
         "Total",
         "0"
        ],
        [
         "Func",
         "0"
        ],
        [
         "Ndoc",
         "0"
        ],
        [
         "Tipo",
         "0"
        ],
        [
         "Codigo",
         "0"
        ],
        [
         "Categoria",
         "0"
        ]
       ],
       "shape": {
        "columns": 1,
        "rows": 10
       }
      },
      "text/plain": [
       "Data          0\n",
       "Produto       0\n",
       "Quantidade    0\n",
       "ValorMedio    0\n",
       "Total         0\n",
       "Func          0\n",
       "Ndoc          0\n",
       "Tipo          0\n",
       "Codigo        0\n",
       "Categoria     0\n",
       "dtype: int64"
      ]
     },
     "execution_count": 11,
     "metadata": {},
     "output_type": "execute_result"
    }
   ],
   "source": [
    "df.isna().sum()"
   ]
  },
  {
   "cell_type": "markdown",
   "id": "75bdc5dc",
   "metadata": {},
   "source": [
    "Não temos valores nulos!"
   ]
  },
  {
   "cell_type": "markdown",
   "id": "0fc6fe80",
   "metadata": {},
   "source": [
    "---"
   ]
  },
  {
   "cell_type": "markdown",
   "id": "0df5d7a4",
   "metadata": {},
   "source": [
    "### Cardinalidade "
   ]
  },
  {
   "cell_type": "code",
   "execution_count": 12,
   "id": "f08024a5",
   "metadata": {},
   "outputs": [
    {
     "name": "stdout",
     "output_type": "stream",
     "text": [
      "-- Cada coluna possui os seguintes valores únicos:\n",
      "Produtos únicos: 6582\n",
      "Categorias únicas: 223\n",
      "Funcionários únicos: 9\n",
      "Nº de vendas (Ndoc): 113075\n"
     ]
    }
   ],
   "source": [
    "print('-- Cada coluna possui os seguintes valores únicos:')\n",
    "print(\"Produtos únicos:\", df['Produto'].nunique())\n",
    "print(\"Categorias únicas:\", df['Categoria'].nunique())\n",
    "print(\"Funcionários únicos:\", df['Func'].nunique())\n",
    "print(\"Nº de vendas (Ndoc):\", df['Ndoc'].nunique())"
   ]
  },
  {
   "cell_type": "markdown",
   "id": "b4f526dc",
   "metadata": {},
   "source": [
    "### Análise de Produtos/Categorias\n",
    "Vamos ver quais produtos e categorias são mais e menos frequentes.\n",
    "Representando os produtos mais e menos vendidos."
   ]
  },
  {
   "cell_type": "code",
   "execution_count": 13,
   "id": "512f149e",
   "metadata": {},
   "outputs": [
    {
     "data": {
      "application/vnd.microsoft.datawrangler.viewer.v0+json": {
       "columns": [
        {
         "name": "Produto",
         "rawType": "object",
         "type": "string"
        },
        {
         "name": "count",
         "rawType": "int64",
         "type": "integer"
        }
       ],
       "ref": "80e420ba-8ce0-42de-a9e0-fe25335e80a2",
       "rows": [
        [
         "OLEO SELENIA SPRINTA 4T 20W-50",
         "8937"
        ],
        [
         "OLEO DULUB MOTO 4T 20W50 SL",
         "3404"
        ],
        [
         "OLEO LUBRAX GP MOTO 4T 20W50",
         "3307"
        ],
        [
         "OLEO MOBIL 4T 20 W 50",
         "2954"
        ],
        [
         "ROLAM. 6301 IMP. - DIANT. CG",
         "1978"
        ],
        [
         "VISEIRA CAPACETE SAN MARINO CRISTAL 0",
         "1740"
        ],
        [
         "LAMP. STOP CG 12V - IMP.",
         "1624"
        ],
        [
         "OLEO MOTO 4T 20W50",
         "1571"
        ],
        [
         "RET. VALVULA BIZ/TIT150/2002/03/04 MA",
         "1530"
        ],
        [
         "SERV. CAPA BANCO",
         "1528"
        ]
       ],
       "shape": {
        "columns": 1,
        "rows": 10
       }
      },
      "text/plain": [
       "Produto\n",
       "OLEO SELENIA SPRINTA 4T 20W-50           8937\n",
       "OLEO DULUB MOTO 4T 20W50 SL              3404\n",
       "OLEO LUBRAX GP MOTO 4T 20W50             3307\n",
       "OLEO MOBIL 4T 20 W 50                    2954\n",
       "ROLAM. 6301 IMP. - DIANT. CG             1978\n",
       "VISEIRA CAPACETE SAN MARINO CRISTAL 0    1740\n",
       "LAMP. STOP CG 12V - IMP.                 1624\n",
       "OLEO MOTO 4T 20W50                       1571\n",
       "RET. VALVULA BIZ/TIT150/2002/03/04 MA    1530\n",
       "SERV. CAPA BANCO                         1528\n",
       "Name: count, dtype: int64"
      ]
     },
     "execution_count": 13,
     "metadata": {},
     "output_type": "execute_result"
    }
   ],
   "source": [
    "prod_freq = df['Produto'].value_counts()\n",
    "prod_freq.head(10)"
   ]
  },
  {
   "cell_type": "code",
   "execution_count": 14,
   "id": "b78adb03",
   "metadata": {},
   "outputs": [
    {
     "name": "stdout",
     "output_type": "stream",
     "text": [
      "Produto\n",
      "GUARNICAO ESCAP. CB 400 (GR)             1\n",
      "RET. MESA BIZ PART.(INT.ELETRICA) VED    1\n",
      "CORRENTE COM. POP-110I 90L WGK           1\n",
      "MACANETA FREIO POP 110I 2018/22 3165     1\n",
      "ESTATOR COMPL. BROS 150 09/14 ZOUIL-1    1\n",
      "KIT EMB. CG-150 WGK                      1\n",
      "CABO FREIO CG/FAN 150 2014/15/CG160      1\n",
      "INTERRUP. IGNIC. BIZ-110I 2016/17 C/T    1\n",
      "PARALAMA DIANT. BIZ 04/05 VERM.          1\n",
      "VIRABREQUIM CG-150 S/ROLAM.AUDAX         1\n",
      "Name: count, dtype: int64\n"
     ]
    }
   ],
   "source": [
    "print(prod_freq.tail(10))"
   ]
  },
  {
   "cell_type": "markdown",
   "id": "05960487",
   "metadata": {},
   "source": [
    "4 dos 5 produtos mais vendidos são óleo."
   ]
  },
  {
   "cell_type": "code",
   "execution_count": 15,
   "id": "cef9a8cc",
   "metadata": {},
   "outputs": [
    {
     "name": "stdout",
     "output_type": "stream",
     "text": [
      "Categoria\n",
      "OLEO           9.519920\n",
      "RET.           5.379159\n",
      "PARAF.         5.233787\n",
      "LAMP.          4.140761\n",
      "JUNTA          4.127865\n",
      "                 ...   \n",
      "GANCHO         0.000391\n",
      "CORPO          0.000391\n",
      "LIMITADOR      0.000391\n",
      "BORRACHA       0.000391\n",
      "VIRABREQUIM    0.000391\n",
      "Name: proportion, Length: 223, dtype: float64\n"
     ]
    }
   ],
   "source": [
    "cat_freq = df['Categoria'].value_counts(normalize=True) * 100\n",
    "print(cat_freq)"
   ]
  },
  {
   "cell_type": "markdown",
   "id": "a164ad02",
   "metadata": {},
   "source": [
    "Aqui acima temos as categorias que mais vendem em porcentagem.\n",
    "Possivelmente as de baixa frequência podem ser colocadas junto a outra categoria."
   ]
  },
  {
   "cell_type": "code",
   "execution_count": 16,
   "id": "be5967e4",
   "metadata": {},
   "outputs": [
    {
     "name": "stdout",
     "output_type": "stream",
     "text": [
      "Categoria\n",
      "OLEO       9.519920\n",
      "RET.       5.379159\n",
      "PARAF.     5.233787\n",
      "LAMP.      4.140761\n",
      "JUNTA      4.127865\n",
      "CABO       3.768342\n",
      "PORCA      2.801930\n",
      "KIT        2.655777\n",
      "ROLAM.     2.499072\n",
      "ARRUELA    1.950409\n",
      "Name: proportion, dtype: float64\n"
     ]
    }
   ],
   "source": [
    "print(cat_freq.head(10))"
   ]
  },
  {
   "cell_type": "code",
   "execution_count": 17,
   "id": "b6bbc8c2",
   "metadata": {},
   "outputs": [
    {
     "name": "stdout",
     "output_type": "stream",
     "text": [
      "Categoria\n",
      "X-PNEU         0.000391\n",
      "LAMPADA        0.000391\n",
      "DOBRADICA      0.000391\n",
      "X-PASTILHA     0.000391\n",
      "SACA           0.000391\n",
      "GANCHO         0.000391\n",
      "CORPO          0.000391\n",
      "LIMITADOR      0.000391\n",
      "BORRACHA       0.000391\n",
      "VIRABREQUIM    0.000391\n",
      "Name: proportion, dtype: float64\n"
     ]
    }
   ],
   "source": [
    "print(cat_freq.tail(10))"
   ]
  },
  {
   "cell_type": "code",
   "execution_count": 18,
   "id": "1713210a",
   "metadata": {},
   "outputs": [
    {
     "data": {
      "text/plain": [
       "Text(0, 0.5, 'Vendas')"
      ]
     },
     "execution_count": 18,
     "metadata": {},
     "output_type": "execute_result"
    },
    {
     "data": {
      "image/png": "[encoded data removed]",
      "text/plain": [
       "<Figure size 900x600 with 1 Axes>"
      ]
     },
     "metadata": {},
     "output_type": "display_data"
    }
   ],
   "source": [
    "prod_freq[0:20].plot(kind='bar', figsize=(9,6), title='Top 20 produtos mais vendidos')\n",
    "plt.xlabel('Produto')\n",
    "plt.ylabel('Vendas')"
   ]
  },
  {
   "cell_type": "markdown",
   "id": "d2307d57",
   "metadata": {},
   "source": [
    "---"
   ]
  },
  {
   "cell_type": "code",
   "execution_count": 19,
   "id": "591c11fb",
   "metadata": {},
   "outputs": [
    {
     "data": {
      "image/png": "[encoded data removed]",
      "text/plain": [
       "<Figure size 1300x500 with 1 Axes>"
      ]
     },
     "metadata": {},
     "output_type": "display_data"
    }
   ],
   "source": [
    "cat_freq_nao_norm = df['Categoria'].value_counts()\n",
    "ax = cat_freq_nao_norm[0:20].plot(kind='bar', figsize=(13,5), title='Distribuição de Categorias')\n",
    "ax.bar_label(ax.containers[0], fmt='%.0f')\n",
    "plt.show()"
   ]
  },
  {
   "cell_type": "markdown",
   "id": "ba09af34",
   "metadata": {},
   "source": [
    "#### Análise rápida da frequência dos funcionários"
   ]
  },
  {
   "cell_type": "code",
   "execution_count": 20,
   "id": "82121938",
   "metadata": {},
   "outputs": [
    {
     "name": "stdout",
     "output_type": "stream",
     "text": [
      "count         9.000000\n",
      "mean      28432.777778\n",
      "std       49959.140605\n",
      "min           2.000000\n",
      "25%         397.000000\n",
      "50%        3291.000000\n",
      "75%       12528.000000\n",
      "max      126912.000000\n",
      "Name: count, dtype: float64\n"
     ]
    }
   ],
   "source": [
    "func_freq = df['Func'].value_counts()\n",
    "print(func_freq.describe())"
   ]
  },
  {
   "cell_type": "code",
   "execution_count": 21,
   "id": "f4e957f1",
   "metadata": {},
   "outputs": [
    {
     "data": {
      "application/vnd.microsoft.datawrangler.viewer.v0+json": {
       "columns": [
        {
         "name": "Func",
         "rawType": "category",
         "type": "unknown"
        },
        {
         "name": "count",
         "rawType": "int64",
         "type": "integer"
        }
       ],
       "ref": "e776d549-afec-4cf0-a5b7-148918023de4",
       "rows": [
        [
         "4",
         "126912"
        ],
        [
         "3",
         "104451"
        ],
        [
         "7",
         "12528"
        ],
        [
         "2",
         "7619"
        ],
        [
         "1",
         "3291"
        ],
        [
         "0",
         "690"
        ],
        [
         "8",
         "397"
        ],
        [
         "9",
         "5"
        ],
        [
         "6",
         "2"
        ]
       ],
       "shape": {
        "columns": 1,
        "rows": 9
       }
      },
      "text/plain": [
       "Func\n",
       "4    126912\n",
       "3    104451\n",
       "7     12528\n",
       "2      7619\n",
       "1      3291\n",
       "0       690\n",
       "8       397\n",
       "9         5\n",
       "6         2\n",
       "Name: count, dtype: int64"
      ]
     },
     "execution_count": 21,
     "metadata": {},
     "output_type": "execute_result"
    }
   ],
   "source": [
    "func_freq"
   ]
  },
  {
   "cell_type": "markdown",
   "id": "00256437",
   "metadata": {},
   "source": [
    "A loja tem 2 principais vendedores, com mais de 100mil vendas cada, enquanto o terceiro maior tem apenas 12mil vendas cadastradas. Os outros funcinários podem ter tido pouco tempo de trabalho, ou apenas tem outras funções dentro da loja. <br/>\n",
    "Vamos ver um **gráfico**:"
   ]
  },
  {
   "cell_type": "code",
   "execution_count": 22,
   "id": "4b181489",
   "metadata": {},
   "outputs": [
    {
     "data": {
      "text/plain": [
       "Text(0, 0.5, 'Número de Vendas')"
      ]
     },
     "execution_count": 22,
     "metadata": {},
     "output_type": "execute_result"
    },
    {
     "data": {
      "image/png": "[encoded data removed]",
      "text/plain": [
       "<Figure size 600x300 with 1 Axes>"
      ]
     },
     "metadata": {},
     "output_type": "display_data"
    }
   ],
   "source": [
    "func_freq.plot(kind='bar', figsize=(6,3), title='Vendas por Funcionário')\n",
    "plt.xlabel('Funcionário')\n",
    "plt.ylabel('Número de Vendas')"
   ]
  },
  {
   "cell_type": "markdown",
   "id": "ca91ee94",
   "metadata": {},
   "source": [
    "### Análise Univariada das colunas"
   ]
  },
  {
   "cell_type": "markdown",
   "id": "65064b96",
   "metadata": {},
   "source": [
    "#### Variáveis Numéricas\n",
    "Temos como variaveis numéricas `Quantidade`, `ValorMedio`, `Total`. Então vamos analisar separadamente cada uma para entender suas distribuições, valores extremos, assimetrias e sazonalidade."
   ]
  },
  {
   "cell_type": "markdown",
   "id": "0e6d19cc",
   "metadata": {},
   "source": [
    "##### Histograma\n"
   ]
  },
  {
   "cell_type": "code",
   "execution_count": 23,
   "id": "a2686f21",
   "metadata": {},
   "outputs": [
    {
     "data": {
      "text/plain": [
       "<Axes: xlabel='Total', ylabel='Count'>"
      ]
     },
     "execution_count": 23,
     "metadata": {},
     "output_type": "execute_result"
    },
    {
     "data": {
      "image/png": "[encoded data removed]",
      "text/plain": [
       "<Figure size 640x480 with 1 Axes>"
      ]
     },
     "metadata": {},
     "output_type": "display_data"
    }
   ],
   "source": [
    "sns.histplot(df['Total'], bins=200, kde=True)"
   ]
  },
  {
   "cell_type": "code",
   "execution_count": 24,
   "id": "00df0108",
   "metadata": {},
   "outputs": [
    {
     "data": {
      "text/plain": [
       "<Axes: xlabel='Quantidade', ylabel='Count'>"
      ]
     },
     "execution_count": 24,
     "metadata": {},
     "output_type": "execute_result"
    },
    {
     "data": {
      "image/png": "[encoded data removed]",
      "text/plain": [
       "<Figure size 640x480 with 1 Axes>"
      ]
     },
     "metadata": {},
     "output_type": "display_data"
    }
   ],
   "source": [
    "sns.histplot(df['Quantidade'], bins=500, kde=True)"
   ]
  },
  {
   "cell_type": "code",
   "execution_count": 25,
   "id": "a5c25d4a",
   "metadata": {},
   "outputs": [
    {
     "data": {
      "text/plain": [
       "<Axes: xlabel='ValorMedio', ylabel='Count'>"
      ]
     },
     "execution_count": 25,
     "metadata": {},
     "output_type": "execute_result"
    },
    {
     "data": {
      "image/png": "[encoded data removed]",
      "text/plain": [
       "<Figure size 640x480 with 1 Axes>"
      ]
     },
     "metadata": {},
     "output_type": "display_data"
    }
   ],
   "source": [
    "sns.histplot(df['ValorMedio'], bins=200, kde=True)"
   ]
  },
  {
   "cell_type": "code",
   "execution_count": 26,
   "id": "c1f20e01",
   "metadata": {},
   "outputs": [
    {
     "data": {
      "text/plain": [
       "<Axes: xlabel='ValorMedio', ylabel='Count'>"
      ]
     },
     "execution_count": 26,
     "metadata": {},
     "output_type": "execute_result"
    },
    {
     "data": {
      "image/png": "[encoded data removed]",
      "text/plain": [
       "<Figure size 640x480 with 1 Axes>"
      ]
     },
     "metadata": {},
     "output_type": "display_data"
    }
   ],
   "source": [
    "sns.histplot(df['ValorMedio'], bins=200, kde=True)"
   ]
  },
  {
   "cell_type": "markdown",
   "id": "2cca4d91",
   "metadata": {},
   "source": [
    "##### Análise da coluna ValorMedio"
   ]
  },
  {
   "cell_type": "code",
   "execution_count": 27,
   "id": "9e8fa24d",
   "metadata": {},
   "outputs": [
    {
     "data": {
      "image/png": "[encoded data removed]",
      "text/plain": [
       "<Figure size 640x480 with 1 Axes>"
      ]
     },
     "metadata": {},
     "output_type": "display_data"
    }
   ],
   "source": [
    "sns.histplot(df['ValorMedio'], bins=2000)\n",
    "plt.xscale('log')\n",
    "plt.show()"
   ]
  },
  {
   "cell_type": "code",
   "execution_count": 28,
   "id": "62521cd9",
   "metadata": {},
   "outputs": [
    {
     "data": {
      "text/plain": [
       "<Axes: ylabel='ValorMedio'>"
      ]
     },
     "execution_count": 28,
     "metadata": {},
     "output_type": "execute_result"
    },
    {
     "data": {
      "image/png": "[encoded data removed]",
      "text/plain": [
       "<Figure size 640x480 with 1 Axes>"
      ]
     },
     "metadata": {},
     "output_type": "display_data"
    }
   ],
   "source": [
    "sns.boxplot(df['ValorMedio'])"
   ]
  },
  {
   "cell_type": "markdown",
   "id": "34364092",
   "metadata": {},
   "source": [
    "Podemos ver que todas as peças de valor medio acima de aproximadamente R$80,00 são consideradas outliers."
   ]
  },
  {
   "cell_type": "markdown",
   "id": "9d18da44",
   "metadata": {},
   "source": [
    "##### Análise da coluna Quantidade"
   ]
  },
  {
   "cell_type": "code",
   "execution_count": 29,
   "id": "00c2cdef",
   "metadata": {},
   "outputs": [
    {
     "data": {
      "application/vnd.microsoft.datawrangler.viewer.v0+json": {
       "columns": [
        {
         "name": "index",
         "rawType": "object",
         "type": "string"
        },
        {
         "name": "Quantidade",
         "rawType": "float64",
         "type": "float"
        }
       ],
       "ref": "a89c2b5d-f689-4a99-b6f5-7c1442a19f36",
       "rows": [
        [
         "count",
         "255895.0"
        ],
        [
         "mean",
         "1.2781101623712852"
        ],
        [
         "std",
         "1.0951988205681673"
        ],
        [
         "min",
         "1.0"
        ],
        [
         "25%",
         "1.0"
        ],
        [
         "50%",
         "1.0"
        ],
        [
         "75%",
         "1.0"
        ],
        [
         "max",
         "178.0"
        ]
       ],
       "shape": {
        "columns": 1,
        "rows": 8
       }
      },
      "text/plain": [
       "count    255895.000000\n",
       "mean          1.278110\n",
       "std           1.095199\n",
       "min           1.000000\n",
       "25%           1.000000\n",
       "50%           1.000000\n",
       "75%           1.000000\n",
       "max         178.000000\n",
       "Name: Quantidade, dtype: float64"
      ]
     },
     "execution_count": 29,
     "metadata": {},
     "output_type": "execute_result"
    }
   ],
   "source": [
    "df['Quantidade'].describe()"
   ]
  },
  {
   "cell_type": "markdown",
   "id": "48775447",
   "metadata": {},
   "source": [
    "Podemos ver a mediana muito próxima da média, o que indica que os dados estão bem distribuidos. No entanto podemos ver que grande parte é porque o valor é 1.\n",
    "Com o máximo de 178, teremos muitos considerados como outliers. <br/>\n",
    "Vamos ver o boxplot como fica:"
   ]
  },
  {
   "cell_type": "code",
   "execution_count": 30,
   "id": "794ee74d",
   "metadata": {},
   "outputs": [
    {
     "data": {
      "text/plain": [
       "<Axes: ylabel='Quantidade'>"
      ]
     },
     "execution_count": 30,
     "metadata": {},
     "output_type": "execute_result"
    },
    {
     "data": {
      "image/png": "[encoded data removed]",
      "text/plain": [
       "<Figure size 640x480 with 1 Axes>"
      ]
     },
     "metadata": {},
     "output_type": "display_data"
    }
   ],
   "source": [
    "sns.boxplot(df['Quantidade'])"
   ]
  },
  {
   "cell_type": "code",
   "execution_count": 31,
   "id": "7daab0a9",
   "metadata": {},
   "outputs": [
    {
     "data": {
      "text/plain": [
       "<Axes: ylabel='Quantidade_log'>"
      ]
     },
     "execution_count": 31,
     "metadata": {},
     "output_type": "execute_result"
    },
    {
     "data": {
      "image/png": "[encoded data removed]",
      "text/plain": [
       "<Figure size 640x480 with 1 Axes>"
      ]
     },
     "metadata": {},
     "output_type": "display_data"
    }
   ],
   "source": [
    "df['Quantidade_log'] = np.log10(df['Quantidade']+1)\n",
    "sns.boxplot(df['Quantidade_log'])"
   ]
  },
  {
   "cell_type": "markdown",
   "id": "4af0f4f7",
   "metadata": {},
   "source": [
    "Fazendo uma análise com log na base 10 consguimos ver de onde começam os outliers, como é uma coluna som valores do tipo inteiro sabemos que o valor é 2. <BR/>\n",
    "x=Quantidade+1 <br/>\n",
    "log10​(x)=0.50 <br/>\n",
    "0.5 * ln(10) =~ 0.5 * 2.3 =~ 1.15 (aproximadamente)<br/>\n",
    "e^1.15 =~ 3.15 =~ x (aproximadamente) <br/>\n",
    "Como x é Quantidade + 1:    3.15 = Q + 1 <br>\n",
    "Q = 3.15 - 1 = 2.15\n",
    "\n",
    "Ou seja, qualquer valor de 2 para cima é considerado um outlier."
   ]
  },
  {
   "cell_type": "markdown",
   "id": "66c80321",
   "metadata": {},
   "source": [
    "##### Análise da coluna Total"
   ]
  },
  {
   "cell_type": "markdown",
   "id": "d0b9d177",
   "metadata": {},
   "source": [
    "Intuitivamente com as análises anteriores teremos um resultado muito próximo de \"ValorMedio\", afinal a \"Quantidade\" é quase sempre 1. Vejamos"
   ]
  },
  {
   "cell_type": "code",
   "execution_count": 32,
   "id": "37ffeb3a",
   "metadata": {},
   "outputs": [
    {
     "data": {
      "text/plain": [
       "<Axes: ylabel='Total'>"
      ]
     },
     "execution_count": 32,
     "metadata": {},
     "output_type": "execute_result"
    },
    {
     "data": {
      "image/png": "[encoded data removed]",
      "text/plain": [
       "<Figure size 640x480 with 1 Axes>"
      ]
     },
     "metadata": {},
     "output_type": "display_data"
    }
   ],
   "source": [
    "sns.boxplot(df['Total'])"
   ]
  },
  {
   "cell_type": "markdown",
   "id": "f2400ed8",
   "metadata": {},
   "source": [
    "O limite superior do boxplot é próximo a 100, assim como o \"ValorMedio\" que era em 80."
   ]
  },
  {
   "cell_type": "markdown",
   "id": "4198e68b",
   "metadata": {},
   "source": [
    "Mas é verdade que essas três colunas não contam a história completa, afinal os dados foram separados de forma que o pedido pode ser composto de várias linhas. Depois das análises individuais vamos fazer a junção e então uma análise de **ticket médio**."
   ]
  },
  {
   "cell_type": "markdown",
   "id": "65e7667b",
   "metadata": {},
   "source": [
    "#### Variáveis Categóricas"
   ]
  },
  {
   "cell_type": "markdown",
   "id": "76b9c7b3",
   "metadata": {},
   "source": [
    "##### Categoria"
   ]
  },
  {
   "cell_type": "code",
   "execution_count": 33,
   "id": "0e21e1eb",
   "metadata": {},
   "outputs": [],
   "source": [
    "cat_order = df.groupby('Categoria')['Total'].sum().sort_values(ascending=False).index"
   ]
  },
  {
   "cell_type": "code",
   "execution_count": 34,
   "id": "e0633852",
   "metadata": {},
   "outputs": [
    {
     "data": {
      "text/plain": [
       "Index(['PNEU', 'KIT', 'OLEO', 'BATERIA', 'CILINDRO', 'CAPACETE', 'PISTAO/ANEL',\n",
       "       'CABO', 'CAMARA', 'RET.', 'ROLAM.', 'PATIM', 'LAMP.', 'AMORTEC.', 'JG',\n",
       "       'INTERRUP.', 'PEDAL', 'ARO', 'CONJUNTO', 'CAPA', 'CAIXA', 'CARBURADOR',\n",
       "       'ESPELHO', 'EIXO', 'DISCO'],\n",
       "      dtype='object', name='Categoria')"
      ]
     },
     "execution_count": 34,
     "metadata": {},
     "output_type": "execute_result"
    }
   ],
   "source": [
    "cat_order[0:25] # Apenas o top 15, para ficar visível"
   ]
  },
  {
   "cell_type": "code",
   "execution_count": 35,
   "id": "ff921ec9",
   "metadata": {},
   "outputs": [
    {
     "data": {
      "image/png": "[encoded data removed]",
      "text/plain": [
       "<Figure size 1500x600 with 1 Axes>"
      ]
     },
     "metadata": {},
     "output_type": "display_data"
    }
   ],
   "source": [
    "plt.figure(figsize=(15,6))\n",
    "sns.barplot(data=df, x='Categoria', y='Total', order=cat_order[0:25], estimator=sum)\n",
    "plt.xticks(rotation=45)\n",
    "plt.title('Faturamento por Categoria')\n",
    "plt.show()"
   ]
  },
  {
   "cell_type": "markdown",
   "id": "d32f97a8",
   "metadata": {},
   "source": [
    "Podemos ver que as 5 melhores categorias são: *Pneu*, *Kit*, *Oleo*, *Bateria* e *Cilindro*<BR>\n",
    "Depois iremos fazer esta análise ao longo do tempo para ver se houve alguma mudança no top 10, e assim ver o comportamento do mercado, notando categorias que estarão em ascenção ou declínio."
   ]
  },
  {
   "cell_type": "markdown",
   "id": "0677ea47",
   "metadata": {},
   "source": [
    "##### Funcionário"
   ]
  },
  {
   "cell_type": "code",
   "execution_count": 36,
   "id": "f6dc3991",
   "metadata": {},
   "outputs": [
    {
     "name": "stderr",
     "output_type": "stream",
     "text": [
      "C:\\Users\\Igor\\AppData\\Local\\Temp\\ipykernel_8464\\1408201187.py:1: FutureWarning: The default of observed=False is deprecated and will be changed to True in a future version of pandas. Pass observed=False to retain current behavior or observed=True to adopt the future default and silence this warning.\n",
      "  func_faturamento_order = df.groupby('Func')['Total'].sum()\n"
     ]
    }
   ],
   "source": [
    "func_faturamento_order = df.groupby('Func')['Total'].sum()"
   ]
  },
  {
   "cell_type": "code",
   "execution_count": 37,
   "id": "6c39f7a6",
   "metadata": {},
   "outputs": [
    {
     "data": {
      "application/vnd.microsoft.datawrangler.viewer.v0+json": {
       "columns": [
        {
         "name": "Func",
         "rawType": "category",
         "type": "unknown"
        },
        {
         "name": "Total",
         "rawType": "float64",
         "type": "float"
        }
       ],
       "ref": "cef51cb7-728a-429e-9392-05cb5f79ac5f",
       "rows": [
        [
         "0",
         "34992.77"
        ],
        [
         "1",
         "110742.35262"
        ],
        [
         "2",
         "123334.3"
        ],
        [
         "3",
         "2508026.4"
        ],
        [
         "4",
         "2923487.39"
        ],
        [
         "6",
         "23.52"
        ],
        [
         "7",
         "279164.65"
        ],
        [
         "8",
         "9524.39"
        ],
        [
         "9",
         "237.83"
        ]
       ],
       "shape": {
        "columns": 1,
        "rows": 9
       }
      },
      "text/plain": [
       "Func\n",
       "0    3.499277e+04\n",
       "1    1.107424e+05\n",
       "2    1.233343e+05\n",
       "3    2.508026e+06\n",
       "4    2.923487e+06\n",
       "6    2.352000e+01\n",
       "7    2.791647e+05\n",
       "8    9.524390e+03\n",
       "9    2.378300e+02\n",
       "Name: Total, dtype: float64"
      ]
     },
     "execution_count": 37,
     "metadata": {},
     "output_type": "execute_result"
    }
   ],
   "source": [
    "func_faturamento_order"
   ]
  },
  {
   "cell_type": "markdown",
   "id": "450b0d42",
   "metadata": {},
   "source": [
    "<span style='color:red'>**OBS**</span>: O valor 'total' do Func 1 aqui está com mais de uma casa decimal, provavelmente é por causa de floating point."
   ]
  },
  {
   "cell_type": "code",
   "execution_count": 38,
   "id": "f854f191",
   "metadata": {},
   "outputs": [
    {
     "data": {
      "image/png": "[encoded data removed]",
      "text/plain": [
       "<Figure size 640x480 with 1 Axes>"
      ]
     },
     "metadata": {},
     "output_type": "display_data"
    }
   ],
   "source": [
    "sns.barplot(func_faturamento_order)\n",
    "plt.yscale('log')\n",
    "plt.show()"
   ]
  },
  {
   "cell_type": "markdown",
   "id": "f6ed2347",
   "metadata": {},
   "source": [
    "Vamos comparar com a frequência de venda de cada funcionário, vamos ver se tem algum funcionário que aparenta vendar as peças mais caras."
   ]
  },
  {
   "cell_type": "code",
   "execution_count": 39,
   "id": "f582eddc",
   "metadata": {},
   "outputs": [
    {
     "data": {
      "application/vnd.microsoft.datawrangler.viewer.v0+json": {
       "columns": [
        {
         "name": "Func",
         "rawType": "category",
         "type": "unknown"
        },
        {
         "name": "count",
         "rawType": "int64",
         "type": "integer"
        }
       ],
       "ref": "49277ab3-72bd-4250-90a1-20d6150a65a1",
       "rows": [
        [
         "4",
         "126912"
        ],
        [
         "3",
         "104451"
        ],
        [
         "7",
         "12528"
        ],
        [
         "2",
         "7619"
        ],
        [
         "1",
         "3291"
        ],
        [
         "0",
         "690"
        ],
        [
         "8",
         "397"
        ],
        [
         "9",
         "5"
        ],
        [
         "6",
         "2"
        ]
       ],
       "shape": {
        "columns": 1,
        "rows": 9
       }
      },
      "text/plain": [
       "Func\n",
       "4    126912\n",
       "3    104451\n",
       "7     12528\n",
       "2      7619\n",
       "1      3291\n",
       "0       690\n",
       "8       397\n",
       "9         5\n",
       "6         2\n",
       "Name: count, dtype: int64"
      ]
     },
     "execution_count": 39,
     "metadata": {},
     "output_type": "execute_result"
    }
   ],
   "source": [
    "func_freq"
   ]
  },
  {
   "cell_type": "code",
   "execution_count": 40,
   "id": "511f6345",
   "metadata": {},
   "outputs": [
    {
     "data": {
      "text/plain": [
       "<Axes: xlabel='Func', ylabel='count'>"
      ]
     },
     "execution_count": 40,
     "metadata": {},
     "output_type": "execute_result"
    },
    {
     "data": {
      "image/png": "[encoded data removed]",
      "text/plain": [
       "<Figure size 640x480 with 1 Axes>"
      ]
     },
     "metadata": {},
     "output_type": "display_data"
    }
   ],
   "source": [
    "sns.barplot(func_freq)"
   ]
  },
  {
   "cell_type": "code",
   "execution_count": 41,
   "id": "4ea14ef2",
   "metadata": {},
   "outputs": [
    {
     "data": {
      "image/png": "[encoded data removed]",
      "text/plain": [
       "<Figure size 640x480 with 1 Axes>"
      ]
     },
     "metadata": {},
     "output_type": "display_data"
    }
   ],
   "source": [
    "sns.barplot(func_freq)\n",
    "plt.yscale('log')\n",
    "plt.show()"
   ]
  },
  {
   "cell_type": "code",
   "execution_count": 42,
   "id": "475dc779",
   "metadata": {},
   "outputs": [
    {
     "data": {
      "application/vnd.microsoft.datawrangler.viewer.v0+json": {
       "columns": [
        {
         "name": "Func",
         "rawType": "category",
         "type": "unknown"
        },
        {
         "name": "0",
         "rawType": "float64",
         "type": "float"
        }
       ],
       "ref": "2382bba3-532b-47f9-8cd5-23eee87c3125",
       "rows": [
        [
         "0",
         "50.71415942028985"
        ],
        [
         "1",
         "33.65006156791249"
        ],
        [
         "2",
         "16.1877280483003"
        ],
        [
         "3",
         "24.011511617887813"
        ],
        [
         "4",
         "23.035547387165913"
        ],
        [
         "6",
         "11.76"
        ],
        [
         "7",
         "22.28325750319285"
        ],
        [
         "8",
         "23.990906801007554"
        ],
        [
         "9",
         "47.566"
        ]
       ],
       "shape": {
        "columns": 1,
        "rows": 9
       }
      },
      "text/plain": [
       "Func\n",
       "0    50.714159\n",
       "1    33.650062\n",
       "2    16.187728\n",
       "3    24.011512\n",
       "4    23.035547\n",
       "6    11.760000\n",
       "7    22.283258\n",
       "8    23.990907\n",
       "9    47.566000\n",
       "dtype: float64"
      ]
     },
     "execution_count": 42,
     "metadata": {},
     "output_type": "execute_result"
    }
   ],
   "source": [
    "func_faturamento_order/func_freq"
   ]
  },
  {
   "cell_type": "markdown",
   "id": "1dde8c0b",
   "metadata": {},
   "source": [
    "Em média, os funcionários *0* e *9* costuma vender itens mais caros."
   ]
  },
  {
   "cell_type": "code",
   "execution_count": 43,
   "id": "3e334450",
   "metadata": {},
   "outputs": [
    {
     "data": {
      "application/vnd.microsoft.datawrangler.viewer.v0+json": {
       "columns": [
        {
         "name": "index",
         "rawType": "object",
         "type": "string"
        },
        {
         "name": "0",
         "rawType": "float64",
         "type": "float"
        }
       ],
       "ref": "1f347579-e2c6-4da7-a0c7-6e09b2b63a40",
       "rows": [
        [
         "count",
         "9.0"
        ],
        [
         "mean",
         "28.13324137175075"
        ],
        [
         "std",
         "13.337447195567771"
        ],
        [
         "min",
         "11.76"
        ],
        [
         "25%",
         "22.28325750319285"
        ],
        [
         "50%",
         "23.990906801007554"
        ],
        [
         "75%",
         "33.65006156791249"
        ],
        [
         "max",
         "50.71415942028985"
        ]
       ],
       "shape": {
        "columns": 1,
        "rows": 8
       }
      },
      "text/plain": [
       "count     9.000000\n",
       "mean     28.133241\n",
       "std      13.337447\n",
       "min      11.760000\n",
       "25%      22.283258\n",
       "50%      23.990907\n",
       "75%      33.650062\n",
       "max      50.714159\n",
       "dtype: float64"
      ]
     },
     "execution_count": 43,
     "metadata": {},
     "output_type": "execute_result"
    }
   ],
   "source": [
    "(func_faturamento_order/func_freq).describe()"
   ]
  },
  {
   "cell_type": "markdown",
   "id": "07cc61ec",
   "metadata": {},
   "source": [
    "##### Tipo de venda"
   ]
  },
  {
   "cell_type": "code",
   "execution_count": 44,
   "id": "76e02d0c",
   "metadata": {},
   "outputs": [
    {
     "data": {
      "application/vnd.microsoft.datawrangler.viewer.v0+json": {
       "columns": [
        {
         "name": "Tipo",
         "rawType": "object",
         "type": "string"
        },
        {
         "name": "count",
         "rawType": "int64",
         "type": "integer"
        }
       ],
       "ref": "b6a2aaca-da6d-4a64-9c7d-6e4b6f66cd92",
       "rows": [
        [
         "P",
         "163009"
        ],
        [
         "C",
         "92886"
        ]
       ],
       "shape": {
        "columns": 1,
        "rows": 2
       }
      },
      "text/plain": [
       "Tipo\n",
       "P    163009\n",
       "C     92886\n",
       "Name: count, dtype: int64"
      ]
     },
     "execution_count": 44,
     "metadata": {},
     "output_type": "execute_result"
    }
   ],
   "source": [
    "df['Tipo'].value_counts()"
   ]
  },
  {
   "cell_type": "markdown",
   "id": "d96a67c4",
   "metadata": {},
   "source": [
    "Temos quase 2 vezes de pedidos tipo *P* do que tipo *C*.<BR>\n",
    "Tipo *P* deve ser pedido, e tipo *C* deve ser crediário. <br>\n",
    "Faz sentido afinal se abre crediário para alguns clientes escolhidos e confiáveis."
   ]
  },
  {
   "cell_type": "markdown",
   "id": "03a62098",
   "metadata": {},
   "source": [
    "Checkando o valor de cada:"
   ]
  },
  {
   "cell_type": "code",
   "execution_count": 45,
   "id": "4a0354b4",
   "metadata": {},
   "outputs": [
    {
     "data": {
      "application/vnd.microsoft.datawrangler.viewer.v0+json": {
       "columns": [
        {
         "name": "Tipo",
         "rawType": "object",
         "type": "string"
        },
        {
         "name": "Total",
         "rawType": "float64",
         "type": "float"
        }
       ],
       "ref": "0c0eef2b-1805-4b19-a8e6-95ad8078383a",
       "rows": [
        [
         "C",
         "2963755.45"
        ],
        [
         "P",
         "3025778.15262"
        ]
       ],
       "shape": {
        "columns": 1,
        "rows": 2
       }
      },
      "text/plain": [
       "Tipo\n",
       "C    2.963755e+06\n",
       "P    3.025778e+06\n",
       "Name: Total, dtype: float64"
      ]
     },
     "execution_count": 45,
     "metadata": {},
     "output_type": "execute_result"
    }
   ],
   "source": [
    "total_tipo = df.groupby('Tipo')['Total'].sum()\n",
    "total_tipo"
   ]
  },
  {
   "cell_type": "code",
   "execution_count": 46,
   "id": "6eaa68e8",
   "metadata": {},
   "outputs": [
    {
     "data": {
      "text/plain": [
       "<Axes: xlabel='Tipo', ylabel='Total'>"
      ]
     },
     "execution_count": 46,
     "metadata": {},
     "output_type": "execute_result"
    },
    {
     "data": {
      "image/png": "[encoded data removed]",
      "text/plain": [
       "<Figure size 640x480 with 1 Axes>"
      ]
     },
     "metadata": {},
     "output_type": "display_data"
    }
   ],
   "source": [
    "sns.barplot(total_tipo)"
   ]
  },
  {
   "cell_type": "markdown",
   "id": "e5af49f8",
   "metadata": {},
   "source": [
    "Apesar da diferença tamanho para crediário e pedidos, o faturamento total de cada é bem semelhante. <br>\n",
    "Faz sentido pensar que clientes com conta na loja usam seus crediários para comprar produtos mais caros e irem pagando parceladamente."
   ]
  },
  {
   "cell_type": "markdown",
   "id": "3a73e986",
   "metadata": {},
   "source": [
    "##### Produto\n",
    "Para produto podemos analisar a frequência de venda de cada produto.\n",
    "<span style='color:red'>Aqui devemos tomar um cuidado especial, pois cada contagem de linha pode ter uma certa quantidade de produtos diferente de 1.</span> Como analisamos antes, vimos a raridade desta ocorrencia, mas ainda assim devemos fazer a contagem considerando a *quantidade*. <br>\n",
    "Vamos ver como seria a diferença:"
   ]
  },
  {
   "cell_type": "code",
   "execution_count": 47,
   "id": "54cc4cec",
   "metadata": {},
   "outputs": [
    {
     "data": {
      "application/vnd.microsoft.datawrangler.viewer.v0+json": {
       "columns": [
        {
         "name": "Produto",
         "rawType": "object",
         "type": "string"
        },
        {
         "name": "count",
         "rawType": "int64",
         "type": "integer"
        }
       ],
       "ref": "baf253c9-c4fb-41af-b5b5-1cac55152c1c",
       "rows": [
        [
         "OLEO SELENIA SPRINTA 4T 20W-50",
         "8937"
        ],
        [
         "OLEO DULUB MOTO 4T 20W50 SL",
         "3404"
        ],
        [
         "OLEO LUBRAX GP MOTO 4T 20W50",
         "3307"
        ],
        [
         "OLEO MOBIL 4T 20 W 50",
         "2954"
        ],
        [
         "ROLAM. 6301 IMP. - DIANT. CG",
         "1978"
        ],
        [
         "VISEIRA CAPACETE SAN MARINO CRISTAL 0",
         "1740"
        ],
        [
         "LAMP. STOP CG 12V - IMP.",
         "1624"
        ],
        [
         "OLEO MOTO 4T 20W50",
         "1571"
        ],
        [
         "RET. VALVULA BIZ/TIT150/2002/03/04 MA",
         "1530"
        ],
        [
         "SERV. CAPA BANCO",
         "1528"
        ]
       ],
       "shape": {
        "columns": 1,
        "rows": 10
       }
      },
      "text/plain": [
       "Produto\n",
       "OLEO SELENIA SPRINTA 4T 20W-50           8937\n",
       "OLEO DULUB MOTO 4T 20W50 SL              3404\n",
       "OLEO LUBRAX GP MOTO 4T 20W50             3307\n",
       "OLEO MOBIL 4T 20 W 50                    2954\n",
       "ROLAM. 6301 IMP. - DIANT. CG             1978\n",
       "VISEIRA CAPACETE SAN MARINO CRISTAL 0    1740\n",
       "LAMP. STOP CG 12V - IMP.                 1624\n",
       "OLEO MOTO 4T 20W50                       1571\n",
       "RET. VALVULA BIZ/TIT150/2002/03/04 MA    1530\n",
       "SERV. CAPA BANCO                         1528\n",
       "Name: count, dtype: int64"
      ]
     },
     "execution_count": 47,
     "metadata": {},
     "output_type": "execute_result"
    }
   ],
   "source": [
    "df['Produto'].value_counts()[0:10]"
   ]
  },
  {
   "cell_type": "code",
   "execution_count": 48,
   "id": "a9eb8933",
   "metadata": {},
   "outputs": [
    {
     "data": {
      "application/vnd.microsoft.datawrangler.viewer.v0+json": {
       "columns": [
        {
         "name": "Produto",
         "rawType": "object",
         "type": "string"
        },
        {
         "name": "Quantidade",
         "rawType": "int64",
         "type": "integer"
        }
       ],
       "ref": "af4f007f-3a46-442d-96a2-725494c78c68",
       "rows": [
        [
         "OLEO SELENIA SPRINTA 4T 20W-50",
         "10198"
        ],
        [
         "ROLAM. 6301 IMP. - DIANT. CG",
         "3985"
        ],
        [
         "OLEO DULUB MOTO 4T 20W50 SL",
         "3773"
        ],
        [
         "OLEO LUBRAX GP MOTO 4T 20W50",
         "3433"
        ],
        [
         "RET. VALVULA BIZ/TIT150/2002/03/04 MA",
         "3360"
        ],
        [
         "OLEO MOBIL 4T 20 W 50",
         "3232"
        ],
        [
         "PORCA 6 MM",
         "3181"
        ],
        [
         "ABRACADEIRA (M) P/BENGALA (PRESILHA)-",
         "3108"
        ],
        [
         "BUCHA COROA CG (NAYLON)-3025",
         "2292"
        ],
        [
         "PORCA 8 MM (SEXT)",
         "2238"
        ]
       ],
       "shape": {
        "columns": 1,
        "rows": 10
       }
      },
      "text/plain": [
       "Produto\n",
       "OLEO SELENIA SPRINTA 4T 20W-50           10198\n",
       "ROLAM. 6301 IMP. - DIANT. CG              3985\n",
       "OLEO DULUB MOTO 4T 20W50 SL               3773\n",
       "OLEO LUBRAX GP MOTO 4T 20W50              3433\n",
       "RET. VALVULA BIZ/TIT150/2002/03/04 MA     3360\n",
       "OLEO MOBIL 4T 20 W 50                     3232\n",
       "PORCA 6 MM                                3181\n",
       "ABRACADEIRA (M) P/BENGALA (PRESILHA)-     3108\n",
       "BUCHA COROA CG (NAYLON)-3025              2292\n",
       "PORCA 8 MM (SEXT)                         2238\n",
       "Name: Quantidade, dtype: int64"
      ]
     },
     "execution_count": 48,
     "metadata": {},
     "output_type": "execute_result"
    }
   ],
   "source": [
    "produto_freq = df.groupby('Produto')['Quantidade'].sum().sort_values(ascending=False)\n",
    "produto_freq[0:10]"
   ]
  },
  {
   "cell_type": "markdown",
   "id": "58989d9f",
   "metadata": {},
   "source": [
    "Podemos ver que houve uma diferença no top 10. Depois iremos analisar também quais produtos tendem a sair em quantidades maiores que 1, e também quais produtos tendem a sair juntos, para criar insights mais interessantes para a loja."
   ]
  },
  {
   "cell_type": "code",
   "execution_count": 49,
   "id": "6330671e",
   "metadata": {},
   "outputs": [],
   "source": [
    "total_produto = df.groupby('Produto')['Total'].sum().sort_values(ascending=False)"
   ]
  },
  {
   "cell_type": "code",
   "execution_count": 50,
   "id": "00a35bac",
   "metadata": {},
   "outputs": [
    {
     "data": {
      "application/vnd.microsoft.datawrangler.viewer.v0+json": {
       "columns": [
        {
         "name": "Produto",
         "rawType": "object",
         "type": "string"
        },
        {
         "name": "Total",
         "rawType": "float64",
         "type": "float"
        }
       ],
       "ref": "c7a4fea9-fc94-433a-a806-a72aed3552d2",
       "rows": [
        [
         "OLEO SELENIA SPRINTA 4T 20W-50",
         "151346.88"
        ],
        [
         "BATERIA ERBS ERX 6-BS",
         "104240.61"
        ],
        [
         "PNEU TRAS. CG 150 VIPAL 90/90-18 ST-3",
         "94746.65"
        ],
        [
         "OLEO LUBRAX GP MOTO 4T 20W50",
         "79032.27"
        ],
        [
         "OLEO MOBIL 4T 20 W 50",
         "74769.22"
        ],
        [
         "BATERIA KOMOTORS KTX 6",
         "62352.98"
        ],
        [
         "OLEO DULUB MOTO 4T 20W50 SL",
         "57581.84"
        ],
        [
         "PNEU TRAS. BIZ VIPAL ST-200 80/100-14",
         "47927.32"
        ],
        [
         "PNEU DIANT. CG 150 VIPAL ST-300 2.75X",
         "40733.68"
        ],
        [
         "PATIM FR. TRAS KS/DIANT.XLR125/BIZ/TO",
         "40138.78"
        ]
       ],
       "shape": {
        "columns": 1,
        "rows": 10
       }
      },
      "text/plain": [
       "Produto\n",
       "OLEO SELENIA SPRINTA 4T 20W-50           151346.88\n",
       "BATERIA ERBS ERX 6-BS                    104240.61\n",
       "PNEU TRAS. CG 150 VIPAL 90/90-18 ST-3     94746.65\n",
       "OLEO LUBRAX GP MOTO 4T 20W50              79032.27\n",
       "OLEO MOBIL 4T 20 W 50                     74769.22\n",
       "BATERIA KOMOTORS KTX 6                    62352.98\n",
       "OLEO DULUB MOTO 4T 20W50 SL               57581.84\n",
       "PNEU TRAS. BIZ VIPAL ST-200 80/100-14     47927.32\n",
       "PNEU DIANT. CG 150 VIPAL ST-300 2.75X     40733.68\n",
       "PATIM FR. TRAS KS/DIANT.XLR125/BIZ/TO     40138.78\n",
       "Name: Total, dtype: float64"
      ]
     },
     "execution_count": 50,
     "metadata": {},
     "output_type": "execute_result"
    }
   ],
   "source": [
    "total_produto[0:10]"
   ]
  },
  {
   "cell_type": "code",
   "execution_count": 51,
   "id": "2a1f2a94",
   "metadata": {},
   "outputs": [
    {
     "data": {
      "text/plain": [
       "'OLEO SELENIA SPRINTA 4T 20W-50'"
      ]
     },
     "execution_count": 51,
     "metadata": {},
     "output_type": "execute_result"
    }
   ],
   "source": [
    "total_produto.keys()[0]"
   ]
  },
  {
   "cell_type": "markdown",
   "id": "006afa95",
   "metadata": {},
   "source": [
    "##### Número do Pedido"
   ]
  },
  {
   "cell_type": "code",
   "execution_count": 52,
   "id": "d4b4a33b",
   "metadata": {},
   "outputs": [
    {
     "data": {
      "application/vnd.microsoft.datawrangler.viewer.v0+json": {
       "columns": [
        {
         "name": "Ndoc",
         "rawType": "int64",
         "type": "integer"
        },
        {
         "name": "count",
         "rawType": "int64",
         "type": "integer"
        }
       ],
       "ref": "5370fd57-28ae-4216-ae27-7889a5166c9e",
       "rows": [
        [
         "6911",
         "147"
        ],
        [
         "15234",
         "105"
        ],
        [
         "42",
         "91"
        ],
        [
         "438",
         "71"
        ],
        [
         "131427",
         "70"
        ],
        [
         "38",
         "66"
        ],
        [
         "33",
         "65"
        ],
        [
         "3267",
         "61"
        ],
        [
         "35",
         "61"
        ],
        [
         "24917",
         "61"
        ],
        [
         "34",
         "60"
        ],
        [
         "31",
         "58"
        ],
        [
         "24996",
         "57"
        ],
        [
         "36",
         "56"
        ],
        [
         "6447",
         "56"
        ],
        [
         "43",
         "54"
        ],
        [
         "81935",
         "54"
        ],
        [
         "13218",
         "53"
        ],
        [
         "15568",
         "50"
        ],
        [
         "126854",
         "49"
        ],
        [
         "102311",
         "47"
        ],
        [
         "76242",
         "47"
        ],
        [
         "11152",
         "47"
        ],
        [
         "10874",
         "46"
        ],
        [
         "35585",
         "46"
        ],
        [
         "15231",
         "44"
        ],
        [
         "73323",
         "44"
        ],
        [
         "23418",
         "43"
        ],
        [
         "58367",
         "43"
        ],
        [
         "23270",
         "43"
        ],
        [
         "162367",
         "42"
        ],
        [
         "14299",
         "42"
        ],
        [
         "122621",
         "41"
        ],
        [
         "8281",
         "41"
        ],
        [
         "40",
         "41"
        ],
        [
         "18769",
         "40"
        ],
        [
         "10651",
         "40"
        ],
        [
         "134907",
         "40"
        ],
        [
         "85639",
         "39"
        ],
        [
         "15508",
         "39"
        ],
        [
         "88634",
         "39"
        ],
        [
         "23278",
         "39"
        ],
        [
         "128648",
         "39"
        ],
        [
         "4449",
         "39"
        ],
        [
         "15412",
         "38"
        ],
        [
         "25",
         "38"
        ],
        [
         "130308",
         "38"
        ],
        [
         "10450",
         "38"
        ],
        [
         "23756",
         "38"
        ],
        [
         "10340",
         "38"
        ]
       ],
       "shape": {
        "columns": 1,
        "rows": 113075
       }
      },
      "text/plain": [
       "Ndoc\n",
       "6911      147\n",
       "15234     105\n",
       "42         91\n",
       "438        71\n",
       "131427     70\n",
       "         ... \n",
       "1788        1\n",
       "1805        1\n",
       "166045      1\n",
       "166054      1\n",
       "166039      1\n",
       "Name: count, Length: 113075, dtype: int64"
      ]
     },
     "execution_count": 52,
     "metadata": {},
     "output_type": "execute_result"
    }
   ],
   "source": [
    "df['Ndoc'].value_counts()"
   ]
  },
  {
   "cell_type": "code",
   "execution_count": 53,
   "id": "b2a4d05d",
   "metadata": {},
   "outputs": [
    {
     "data": {
      "application/vnd.microsoft.datawrangler.viewer.v0+json": {
       "columns": [
        {
         "name": "index",
         "rawType": "int64",
         "type": "integer"
        },
        {
         "name": "Data",
         "rawType": "datetime64[ns]",
         "type": "datetime"
        },
        {
         "name": "Produto",
         "rawType": "object",
         "type": "string"
        },
        {
         "name": "Quantidade",
         "rawType": "int64",
         "type": "integer"
        },
        {
         "name": "ValorMedio",
         "rawType": "float64",
         "type": "float"
        },
        {
         "name": "Total",
         "rawType": "float64",
         "type": "float"
        },
        {
         "name": "Func",
         "rawType": "category",
         "type": "unknown"
        },
        {
         "name": "Ndoc",
         "rawType": "int64",
         "type": "integer"
        },
        {
         "name": "Tipo",
         "rawType": "object",
         "type": "string"
        },
        {
         "name": "Codigo",
         "rawType": "int64",
         "type": "integer"
        },
        {
         "name": "Categoria",
         "rawType": "object",
         "type": "string"
        },
        {
         "name": "Quantidade_log",
         "rawType": "float64",
         "type": "float"
        }
       ],
       "ref": "d9718958-5d74-47fc-bc3e-f0abef553164",
       "rows": [
        [
         "11232",
         "2016-09-02 00:00:00",
         "CABO FREIO KS 2000/2001 IMP./SCUD",
         "1",
         "13.31",
         "13.31",
         "3",
         "6911",
         "C",
         "5012",
         "CABO",
         "0.3010299956639812"
        ],
        [
         "11240",
         "2016-09-02 00:00:00",
         "OLEO 4T SPEEDY SJ-20W50",
         "1",
         "9.72",
         "9.72",
         "3",
         "6911",
         "C",
         "4103",
         "OLEO",
         "0.3010299956639812"
        ],
        [
         "11248",
         "2016-09-02 00:00:00",
         "PNEU DIANT. CG 150 VIPAL ST-200 2.75X",
         "1",
         "96.98",
         "96.98",
         "3",
         "6911",
         "C",
         "6222",
         "PNEU",
         "0.3010299956639812"
        ],
        [
         "11250",
         "2016-09-02 00:00:00",
         "PNEU TRAS. CG 150 VIPAL 90/90-18 ST-2",
         "1",
         "106.24",
         "106.24",
         "3",
         "6911",
         "C",
         "6124",
         "PNEU",
         "0.3010299956639812"
        ],
        [
         "11254",
         "2016-09-02 00:00:00",
         "VELA KS/ES 002/003 DPR8EA-9 ORIG.-980",
         "1",
         "14.14",
         "14.14",
         "3",
         "6911",
         "C",
         "1999",
         "VELA",
         "0.3010299956639812"
        ],
        [
         "11255",
         "2016-09-02 00:00:00",
         "BOBINA FAISCA ND 12V CG/ML 83",
         "1",
         "18.01",
         "18.01",
         "3",
         "6911",
         "C",
         "22",
         "BOBINA",
         "0.3010299956639812"
        ],
        [
         "11256",
         "2016-09-02 00:00:00",
         "REGULADOR VOLT. KS/ES-2000/FAN-125 R.",
         "1",
         "29.62",
         "29.62",
         "3",
         "6911",
         "C",
         "4421",
         "REGULADOR",
         "0.3010299956639812"
        ],
        [
         "11257",
         "2016-09-02 00:00:00",
         "INTERRUP. IGNIC. TITAN (DUAS BARRAS)",
         "1",
         "19.5",
         "19.5",
         "3",
         "6911",
         "C",
         "1656",
         "INTERRUP.",
         "0.3010299956639812"
        ],
        [
         "11259",
         "2016-09-02 00:00:00",
         "FILTRO GASOLINA COMUM",
         "1",
         "4.5",
         "4.5",
         "3",
         "6911",
         "C",
         "1268",
         "FILTRO",
         "0.3010299956639812"
        ],
        [
         "11261",
         "2016-09-02 00:00:00",
         "BUZINA CG VTO/RIFFEL/BRAVIC/COLOMBIA",
         "1",
         "16.59",
         "16.59",
         "3",
         "6911",
         "C",
         "4721",
         "BUZINA",
         "0.3010299956639812"
        ],
        [
         "11265",
         "2016-09-02 00:00:00",
         "JG JUNTA CG 83/91",
         "1",
         "18.9",
         "18.9",
         "3",
         "6911",
         "C",
         "108",
         "JG",
         "0.3010299956639812"
        ],
        [
         "11272",
         "2016-09-02 00:00:00",
         "DISCO EMB. CG TRILHA/MHX/RED FOX/R-1/",
         "1",
         "17.34",
         "17.34",
         "3",
         "6911",
         "C",
         "2669",
         "DISCO",
         "0.3010299956639812"
        ],
        [
         "11275",
         "2016-09-02 00:00:00",
         "CABO EMB. SUNDOW-MAX 125 IMP.",
         "1",
         "12.76",
         "12.76",
         "3",
         "6911",
         "C",
         "6486",
         "CABO",
         "0.3010299956639812"
        ],
        [
         "11276",
         "2016-09-02 00:00:00",
         "CABO TACOMETRO CBX-150 SHERER",
         "1",
         "14.62",
         "14.62",
         "3",
         "6911",
         "C",
         "6493",
         "CABO",
         "0.3010299956639812"
        ],
        [
         "11277",
         "2016-09-02 00:00:00",
         "CABO ACEL. KS/ES 2002/08 TRILHA/TMAC/",
         "1",
         "13.36",
         "13.36",
         "3",
         "6911",
         "C",
         "2396",
         "CABO",
         "0.3010299956639812"
        ],
        [
         "11278",
         "2016-09-02 00:00:00",
         "CABO VELOC. KS/KSE/BROS-125/150/CG-15",
         "1",
         "11.76",
         "11.76",
         "3",
         "6911",
         "C",
         "2591",
         "CABO",
         "0.3010299956639812"
        ],
        [
         "11280",
         "2016-09-02 00:00:00",
         "ENGREN. VELOC. COMPL. BIZ-100/CG-KS-2",
         "1",
         "20.99",
         "20.99",
         "3",
         "6911",
         "C",
         "4179",
         "ENGREN.",
         "0.3010299956639812"
        ],
        [
         "11281",
         "2016-09-02 00:00:00",
         "FUSIVEL 20 AMP CBX",
         "1",
         "1.47",
         "1.47",
         "3",
         "6911",
         "C",
         "5411",
         "FUSIVEL",
         "0.3010299956639812"
        ],
        [
         "11286",
         "2016-09-02 00:00:00",
         "MACANETA FREIO CG 88/89/TODAY 3004",
         "1",
         "5.81",
         "5.81",
         "3",
         "6911",
         "C",
         "128",
         "MACANETA",
         "0.3010299956639812"
        ],
        [
         "11287",
         "2016-09-02 00:00:00",
         "MACANETA FREIO TITAN 95-99/KS-3006",
         "1",
         "6.13",
         "6.13",
         "3",
         "6911",
         "C",
         "130",
         "MACANETA",
         "0.3010299956639812"
        ],
        [
         "11288",
         "2016-09-02 00:00:00",
         "MACANETA EMB. TITAN 95-99/ES-KS-3025",
         "1",
         "7.11",
         "7.11",
         "3",
         "6911",
         "C",
         "127",
         "MACANETA",
         "0.3010299956639812"
        ],
        [
         "11289",
         "2016-09-02 00:00:00",
         "MANICOTO FREIO KS/ES/CG-150 S/ROSCA-2",
         "1",
         "8.03",
         "8.03",
         "3",
         "6911",
         "C",
         "135",
         "MANICOTO",
         "0.3010299956639812"
        ],
        [
         "11290",
         "2016-09-02 00:00:00",
         "MACANETA EMB. CG 88/TODAY/CBX/TWIST/C",
         "1",
         "5.49",
         "5.49",
         "3",
         "6911",
         "C",
         "126",
         "MACANETA",
         "0.3010299956639812"
        ],
        [
         "11291",
         "2016-09-02 00:00:00",
         "PATIM FR. TRAS CG (DIA-FRAG) DFH-0012",
         "1",
         "18.12",
         "18.12",
         "3",
         "6911",
         "C",
         "412",
         "PATIM",
         "0.3010299956639812"
        ],
        [
         "11293",
         "2016-09-02 00:00:00",
         "PATIM FR. TRAS KS/DIANT.XLR125/BIZ/TO",
         "1",
         "21.84",
         "21.84",
         "3",
         "6911",
         "C",
         "1286",
         "PATIM",
         "0.3010299956639812"
        ],
        [
         "11294",
         "2016-09-02 00:00:00",
         "FITA INSOLANTE 5.M",
         "1",
         "2.07",
         "2.07",
         "3",
         "6911",
         "C",
         "4003",
         "FITA",
         "0.3010299956639812"
        ],
        [
         "11295",
         "2016-09-02 00:00:00",
         "DISCO CORTE PEQUENO",
         "1",
         "2.5",
         "2.5",
         "3",
         "6911",
         "C",
         "6213",
         "DISCO",
         "0.3010299956639812"
        ],
        [
         "11296",
         "2016-09-02 00:00:00",
         "DISCO CORTE PEQUENO",
         "2",
         "2.67",
         "5.34",
         "3",
         "6911",
         "C",
         "6213",
         "DISCO",
         "0.47712125471966244"
        ],
        [
         "11297",
         "2016-09-02 00:00:00",
         "GICLEUR N.110 CG/TIT/FAN-125",
         "1",
         "5.02",
         "5.02",
         "3",
         "6911",
         "C",
         "745",
         "GICLEUR",
         "0.3010299956639812"
        ],
        [
         "11298",
         "2016-09-02 00:00:00",
         "MANGUEIRA GASOLINA",
         "1",
         "2.1",
         "2.1",
         "3",
         "6911",
         "C",
         "132",
         "MANGUEIRA",
         "0.3010299956639812"
        ],
        [
         "11299",
         "2016-09-02 00:00:00",
         "TERMINAL BUZINA-35885",
         "2",
         "1.14",
         "2.28",
         "3",
         "6911",
         "C",
         "577",
         "TERMINAL",
         "0.47712125471966244"
        ],
        [
         "11300",
         "2016-09-02 00:00:00",
         "TERMINAL BUZINA-35885",
         "2",
         "0.9",
         "1.8",
         "3",
         "6911",
         "C",
         "577",
         "TERMINAL",
         "0.47712125471966244"
        ],
        [
         "11301",
         "2016-09-02 00:00:00",
         "TRAVA PINHAO CG/ML/TU",
         "1",
         "2.01",
         "2.01",
         "3",
         "6911",
         "C",
         "175",
         "TRAVA",
         "0.3010299956639812"
        ],
        [
         "11302",
         "2016-09-02 00:00:00",
         "TERMINAL BATERIA-18925",
         "1",
         "0.91",
         "0.91",
         "3",
         "6911",
         "C",
         "1039",
         "TERMINAL",
         "0.3010299956639812"
        ],
        [
         "11303",
         "2016-09-02 00:00:00",
         "PEDAL FREIO TODAY/TITAN",
         "1",
         "26.97",
         "26.97",
         "3",
         "6911",
         "C",
         "248",
         "PEDAL",
         "0.3010299956639812"
        ],
        [
         "11304",
         "2016-09-02 00:00:00",
         "CONTATO NEUTRO CG/TITAN",
         "1",
         "4.69",
         "4.69",
         "3",
         "6911",
         "C",
         "472",
         "CONTATO",
         "0.3010299956639812"
        ],
        [
         "11305",
         "2016-09-02 00:00:00",
         "TAMPA BUJAO OLEO G/TITAN",
         "1",
         "3.74",
         "3.74",
         "3",
         "6911",
         "C",
         "1590",
         "TAMPA",
         "0.3010299956639812"
        ],
        [
         "11306",
         "2016-09-02 00:00:00",
         "ROLDANA ACEL. CG 83/TITAN",
         "1",
         "2.91",
         "2.91",
         "3",
         "6911",
         "C",
         "165",
         "ROLDANA",
         "0.3010299956639812"
        ],
        [
         "11309",
         "2016-09-02 00:00:00",
         "PEDALEIRA TRAS. TODAY/TITAN",
         "2",
         "5.07",
         "10.14",
         "3",
         "6911",
         "C",
         "143",
         "PEDALEIRA",
         "0.47712125471966244"
        ],
        [
         "11312",
         "2016-09-02 00:00:00",
         "CUPILHA CONTRA PINO PQ 1.5X30",
         "3",
         "0.39",
         "1.17",
         "3",
         "6911",
         "C",
         "5668",
         "CUPILHA",
         "0.6020599913279624"
        ],
        [
         "11313",
         "2016-09-02 00:00:00",
         "CUPILHA CONTRA PINO GR 2.5X40",
         "1",
         "1.09",
         "1.09",
         "3",
         "6911",
         "C",
         "5667",
         "CUPILHA",
         "0.3010299956639812"
        ],
        [
         "11314",
         "2016-09-02 00:00:00",
         "PEDAL PARTIDA TITAN 2000 SIVERT",
         "1",
         "42.17",
         "42.17",
         "3",
         "6911",
         "C",
         "1073",
         "PEDAL",
         "0.3010299956639812"
        ],
        [
         "11315",
         "2016-09-02 00:00:00",
         "REPARO VARAO FREIO CG/TIT 12624",
         "1",
         "3.73",
         "3.73",
         "3",
         "6911",
         "C",
         "2389",
         "REPARO",
         "0.3010299956639812"
        ],
        [
         "11316",
         "2016-09-02 00:00:00",
         "ESTICADOR CORR. CG/TIT-125 7400",
         "2",
         "2.56",
         "5.12",
         "3",
         "6911",
         "C",
         "299",
         "ESTICADOR",
         "0.47712125471966244"
        ],
        [
         "11317",
         "2016-09-02 00:00:00",
         "PEDAL CAMBIO CG-150/TIT-99 0002-B",
         "1",
         "14.42",
         "14.42",
         "3",
         "6911",
         "C",
         "3130",
         "PEDAL",
         "0.3010299956639812"
        ],
        [
         "11319",
         "2016-09-02 00:00:00",
         "CILINDRO INT. (BENGALA) CG COFAP TIC-",
         "1",
         "57.07",
         "57.07",
         "3",
         "6911",
         "C",
         "808",
         "CILINDRO",
         "0.3010299956639812"
        ],
        [
         "11323",
         "2016-09-02 00:00:00",
         "MOLA VALV. STOP CG/TO/TITAN",
         "1",
         "1.34",
         "1.34",
         "3",
         "6911",
         "C",
         "371",
         "MOLA",
         "0.3010299956639812"
        ],
        [
         "11324",
         "2016-09-02 00:00:00",
         "MOLA CAV. LATERAL CG/TIT/BIZ",
         "1",
         "2.97",
         "2.97",
         "3",
         "6911",
         "C",
         "370",
         "MOLA",
         "0.3010299956639812"
        ],
        [
         "11325",
         "2016-09-02 00:00:00",
         "MOLA PEDAL FREIO CG/TOD/TITAN",
         "1",
         "2.45",
         "2.45",
         "3",
         "6911",
         "C",
         "605",
         "MOLA",
         "0.3010299956639812"
        ],
        [
         "11328",
         "2016-09-02 00:00:00",
         "BUCHA COROA CG (NAYLON)-3025",
         "4",
         "1.04",
         "4.16",
         "3",
         "6911",
         "C",
         "528",
         "BUCHA",
         "0.6989700043360189"
        ]
       ],
       "shape": {
        "columns": 11,
        "rows": 147
       }
      },
      "text/html": [
       "<div>\n",
       "<style scoped>\n",
       "    .dataframe tbody tr th:only-of-type {\n",
       "        vertical-align: middle;\n",
       "    }\n",
       "\n",
       "    .dataframe tbody tr th {\n",
       "        vertical-align: top;\n",
       "    }\n",
       "\n",
       "    .dataframe thead th {\n",
       "        text-align: right;\n",
       "    }\n",
       "</style>\n",
       "<table border=\"1\" class=\"dataframe\">\n",
       "  <thead>\n",
       "    <tr style=\"text-align: right;\">\n",
       "      <th></th>\n",
       "      <th>Data</th>\n",
       "      <th>Produto</th>\n",
       "      <th>Quantidade</th>\n",
       "      <th>ValorMedio</th>\n",
       "      <th>Total</th>\n",
       "      <th>Func</th>\n",
       "      <th>Ndoc</th>\n",
       "      <th>Tipo</th>\n",
       "      <th>Codigo</th>\n",
       "      <th>Categoria</th>\n",
       "      <th>Quantidade_log</th>\n",
       "    </tr>\n",
       "  </thead>\n",
       "  <tbody>\n",
       "    <tr>\n",
       "      <th>11232</th>\n",
       "      <td>2016-09-02</td>\n",
       "      <td>CABO FREIO KS 2000/2001 IMP./SCUD</td>\n",
       "      <td>1</td>\n",
       "      <td>13.31</td>\n",
       "      <td>13.31</td>\n",
       "      <td>3</td>\n",
       "      <td>6911</td>\n",
       "      <td>C</td>\n",
       "      <td>5012</td>\n",
       "      <td>CABO</td>\n",
       "      <td>0.30103</td>\n",
       "    </tr>\n",
       "    <tr>\n",
       "      <th>11240</th>\n",
       "      <td>2016-09-02</td>\n",
       "      <td>OLEO 4T SPEEDY SJ-20W50</td>\n",
       "      <td>1</td>\n",
       "      <td>9.72</td>\n",
       "      <td>9.72</td>\n",
       "      <td>3</td>\n",
       "      <td>6911</td>\n",
       "      <td>C</td>\n",
       "      <td>4103</td>\n",
       "      <td>OLEO</td>\n",
       "      <td>0.30103</td>\n",
       "    </tr>\n",
       "    <tr>\n",
       "      <th>11248</th>\n",
       "      <td>2016-09-02</td>\n",
       "      <td>PNEU DIANT. CG 150 VIPAL ST-200 2.75X</td>\n",
       "      <td>1</td>\n",
       "      <td>96.98</td>\n",
       "      <td>96.98</td>\n",
       "      <td>3</td>\n",
       "      <td>6911</td>\n",
       "      <td>C</td>\n",
       "      <td>6222</td>\n",
       "      <td>PNEU</td>\n",
       "      <td>0.30103</td>\n",
       "    </tr>\n",
       "    <tr>\n",
       "      <th>11250</th>\n",
       "      <td>2016-09-02</td>\n",
       "      <td>PNEU TRAS. CG 150 VIPAL 90/90-18 ST-2</td>\n",
       "      <td>1</td>\n",
       "      <td>106.24</td>\n",
       "      <td>106.24</td>\n",
       "      <td>3</td>\n",
       "      <td>6911</td>\n",
       "      <td>C</td>\n",
       "      <td>6124</td>\n",
       "      <td>PNEU</td>\n",
       "      <td>0.30103</td>\n",
       "    </tr>\n",
       "    <tr>\n",
       "      <th>11254</th>\n",
       "      <td>2016-09-02</td>\n",
       "      <td>VELA KS/ES 002/003 DPR8EA-9 ORIG.-980</td>\n",
       "      <td>1</td>\n",
       "      <td>14.14</td>\n",
       "      <td>14.14</td>\n",
       "      <td>3</td>\n",
       "      <td>6911</td>\n",
       "      <td>C</td>\n",
       "      <td>1999</td>\n",
       "      <td>VELA</td>\n",
       "      <td>0.30103</td>\n",
       "    </tr>\n",
       "    <tr>\n",
       "      <th>...</th>\n",
       "      <td>...</td>\n",
       "      <td>...</td>\n",
       "      <td>...</td>\n",
       "      <td>...</td>\n",
       "      <td>...</td>\n",
       "      <td>...</td>\n",
       "      <td>...</td>\n",
       "      <td>...</td>\n",
       "      <td>...</td>\n",
       "      <td>...</td>\n",
       "      <td>...</td>\n",
       "    </tr>\n",
       "    <tr>\n",
       "      <th>11465</th>\n",
       "      <td>2016-09-02</td>\n",
       "      <td>PISTAO/ANEL 0.25 CG METAL LEVE-1366.0</td>\n",
       "      <td>1</td>\n",
       "      <td>45.91</td>\n",
       "      <td>45.91</td>\n",
       "      <td>3</td>\n",
       "      <td>6911</td>\n",
       "      <td>C</td>\n",
       "      <td>4091</td>\n",
       "      <td>PISTAO/ANEL</td>\n",
       "      <td>0.30103</td>\n",
       "    </tr>\n",
       "    <tr>\n",
       "      <th>11467</th>\n",
       "      <td>2016-09-02</td>\n",
       "      <td>BIELA CG 83 METAL LEVE 1367</td>\n",
       "      <td>1</td>\n",
       "      <td>57.72</td>\n",
       "      <td>57.72</td>\n",
       "      <td>3</td>\n",
       "      <td>6911</td>\n",
       "      <td>C</td>\n",
       "      <td>2850</td>\n",
       "      <td>BIELA</td>\n",
       "      <td>0.30103</td>\n",
       "    </tr>\n",
       "    <tr>\n",
       "      <th>11468</th>\n",
       "      <td>2016-09-02</td>\n",
       "      <td>VALV. ADM. CG (RIC-5170)</td>\n",
       "      <td>1</td>\n",
       "      <td>16.54</td>\n",
       "      <td>16.54</td>\n",
       "      <td>3</td>\n",
       "      <td>6911</td>\n",
       "      <td>C</td>\n",
       "      <td>1882</td>\n",
       "      <td>VALV.</td>\n",
       "      <td>0.30103</td>\n",
       "    </tr>\n",
       "    <tr>\n",
       "      <th>11473</th>\n",
       "      <td>2016-09-02</td>\n",
       "      <td>LAMP. FAROL TOD/TITAN IMP 35/35W</td>\n",
       "      <td>1</td>\n",
       "      <td>6.91</td>\n",
       "      <td>6.91</td>\n",
       "      <td>3</td>\n",
       "      <td>6911</td>\n",
       "      <td>C</td>\n",
       "      <td>457</td>\n",
       "      <td>LAMP.</td>\n",
       "      <td>0.30103</td>\n",
       "    </tr>\n",
       "    <tr>\n",
       "      <th>52938</th>\n",
       "      <td>2020-08-19</td>\n",
       "      <td>CILINDRO MOTOR COMPL. KS-2002/08 WR/T</td>\n",
       "      <td>1</td>\n",
       "      <td>175.46</td>\n",
       "      <td>175.46</td>\n",
       "      <td>7</td>\n",
       "      <td>6911</td>\n",
       "      <td>C</td>\n",
       "      <td>8174</td>\n",
       "      <td>CILINDRO</td>\n",
       "      <td>0.30103</td>\n",
       "    </tr>\n",
       "  </tbody>\n",
       "</table>\n",
       "<p>147 rows × 11 columns</p>\n",
       "</div>"
      ],
      "text/plain": [
       "            Data                                Produto  Quantidade  \\\n",
       "11232 2016-09-02      CABO FREIO KS 2000/2001 IMP./SCUD           1   \n",
       "11240 2016-09-02                OLEO 4T SPEEDY SJ-20W50           1   \n",
       "11248 2016-09-02  PNEU DIANT. CG 150 VIPAL ST-200 2.75X           1   \n",
       "11250 2016-09-02  PNEU TRAS. CG 150 VIPAL 90/90-18 ST-2           1   \n",
       "11254 2016-09-02  VELA KS/ES 002/003 DPR8EA-9 ORIG.-980           1   \n",
       "...          ...                                    ...         ...   \n",
       "11465 2016-09-02  PISTAO/ANEL 0.25 CG METAL LEVE-1366.0           1   \n",
       "11467 2016-09-02            BIELA CG 83 METAL LEVE 1367           1   \n",
       "11468 2016-09-02               VALV. ADM. CG (RIC-5170)           1   \n",
       "11473 2016-09-02       LAMP. FAROL TOD/TITAN IMP 35/35W           1   \n",
       "52938 2020-08-19  CILINDRO MOTOR COMPL. KS-2002/08 WR/T           1   \n",
       "\n",
       "       ValorMedio   Total Func  Ndoc Tipo  Codigo    Categoria  Quantidade_log  \n",
       "11232       13.31   13.31    3  6911    C    5012         CABO         0.30103  \n",
       "11240        9.72    9.72    3  6911    C    4103         OLEO         0.30103  \n",
       "11248       96.98   96.98    3  6911    C    6222         PNEU         0.30103  \n",
       "11250      106.24  106.24    3  6911    C    6124         PNEU         0.30103  \n",
       "11254       14.14   14.14    3  6911    C    1999         VELA         0.30103  \n",
       "...           ...     ...  ...   ...  ...     ...          ...             ...  \n",
       "11465       45.91   45.91    3  6911    C    4091  PISTAO/ANEL         0.30103  \n",
       "11467       57.72   57.72    3  6911    C    2850        BIELA         0.30103  \n",
       "11468       16.54   16.54    3  6911    C    1882        VALV.         0.30103  \n",
       "11473        6.91    6.91    3  6911    C     457        LAMP.         0.30103  \n",
       "52938      175.46  175.46    7  6911    C    8174     CILINDRO         0.30103  \n",
       "\n",
       "[147 rows x 11 columns]"
      ]
     },
     "execution_count": 53,
     "metadata": {},
     "output_type": "execute_result"
    }
   ],
   "source": [
    "df.loc[df['Ndoc'] == 6911]"
   ]
  },
  {
   "cell_type": "markdown",
   "id": "5c0037da",
   "metadata": {},
   "source": [
    "Há alguma coisa estranha, pois o mesmo pedido aparece uma vez em `2020-08-19` e várias também `2016-09-02` "
   ]
  },
  {
   "cell_type": "code",
   "execution_count": 54,
   "id": "bb8e13b5",
   "metadata": {},
   "outputs": [
    {
     "data": {
      "application/vnd.microsoft.datawrangler.viewer.v0+json": {
       "columns": [
        {
         "name": "('Ndoc', 'Tipo')",
         "rawType": "object",
         "type": "unknown"
        },
        {
         "name": "count",
         "rawType": "int64",
         "type": "integer"
        }
       ],
       "ref": "eba56ea5-aac6-4e23-b40f-cc8b82de9c5e",
       "rows": [
        [
         "(np.int64(6911), 'C')",
         "147"
        ],
        [
         "(np.int64(15234), 'C')",
         "105"
        ],
        [
         "(np.int64(42), 'C')",
         "91"
        ],
        [
         "(np.int64(438), 'C')",
         "71"
        ],
        [
         "(np.int64(131427), 'P')",
         "70"
        ],
        [
         "(np.int64(38), 'C')",
         "66"
        ],
        [
         "(np.int64(33), 'C')",
         "65"
        ],
        [
         "(np.int64(24917), 'C')",
         "61"
        ],
        [
         "(np.int64(3267), 'C')",
         "61"
        ],
        [
         "(np.int64(35), 'C')",
         "61"
        ],
        [
         "(np.int64(34), 'C')",
         "60"
        ],
        [
         "(np.int64(31), 'C')",
         "58"
        ],
        [
         "(np.int64(24996), 'C')",
         "57"
        ],
        [
         "(np.int64(6447), 'C')",
         "56"
        ],
        [
         "(np.int64(36), 'C')",
         "56"
        ],
        [
         "(np.int64(81935), 'P')",
         "54"
        ],
        [
         "(np.int64(43), 'C')",
         "54"
        ],
        [
         "(np.int64(13218), 'C')",
         "53"
        ],
        [
         "(np.int64(15568), 'C')",
         "50"
        ],
        [
         "(np.int64(126854), 'P')",
         "49"
        ],
        [
         "(np.int64(76242), 'P')",
         "47"
        ],
        [
         "(np.int64(102311), 'P')",
         "47"
        ],
        [
         "(np.int64(11152), 'C')",
         "47"
        ],
        [
         "(np.int64(35585), 'P')",
         "46"
        ],
        [
         "(np.int64(10874), 'C')",
         "46"
        ],
        [
         "(np.int64(73323), 'P')",
         "44"
        ],
        [
         "(np.int64(15231), 'C')",
         "44"
        ],
        [
         "(np.int64(23270), 'C')",
         "43"
        ],
        [
         "(np.int64(58367), 'P')",
         "43"
        ],
        [
         "(np.int64(23418), 'C')",
         "43"
        ],
        [
         "(np.int64(14299), 'C')",
         "42"
        ],
        [
         "(np.int64(162367), 'P')",
         "42"
        ],
        [
         "(np.int64(122621), 'P')",
         "41"
        ],
        [
         "(np.int64(8281), 'C')",
         "41"
        ],
        [
         "(np.int64(40), 'C')",
         "41"
        ],
        [
         "(np.int64(18769), 'C')",
         "40"
        ],
        [
         "(np.int64(10651), 'C')",
         "40"
        ],
        [
         "(np.int64(134907), 'P')",
         "40"
        ],
        [
         "(np.int64(23278), 'C')",
         "39"
        ],
        [
         "(np.int64(15508), 'C')",
         "39"
        ],
        [
         "(np.int64(4449), 'C')",
         "39"
        ],
        [
         "(np.int64(88634), 'P')",
         "39"
        ],
        [
         "(np.int64(85639), 'P')",
         "39"
        ],
        [
         "(np.int64(128648), 'P')",
         "39"
        ],
        [
         "(np.int64(10340), 'C')",
         "38"
        ],
        [
         "(np.int64(25), 'C')",
         "38"
        ],
        [
         "(np.int64(10450), 'C')",
         "38"
        ],
        [
         "(np.int64(15412), 'C')",
         "38"
        ],
        [
         "(np.int64(23756), 'C')",
         "38"
        ],
        [
         "(np.int64(130308), 'P')",
         "38"
        ]
       ],
       "shape": {
        "columns": 1,
        "rows": 113075
       }
      },
      "text/plain": [
       "Ndoc    Tipo\n",
       "6911    C       147\n",
       "15234   C       105\n",
       "42      C        91\n",
       "438     C        71\n",
       "131427  P        70\n",
       "               ... \n",
       "166073  P         1\n",
       "166070  P         1\n",
       "166069  P         1\n",
       "166066  P         1\n",
       "150286  P         1\n",
       "Name: count, Length: 113075, dtype: int64"
      ]
     },
     "execution_count": 54,
     "metadata": {},
     "output_type": "execute_result"
    }
   ],
   "source": [
    "df[['Ndoc','Tipo']].value_counts()"
   ]
  },
  {
   "cell_type": "markdown",
   "id": "59ef645e",
   "metadata": {},
   "source": [
    "Temos no total 11308 vendas, incluindo `Pedidos` e `Crediários`. O número não muda separando ou não por Tipo, o que nos indica que os tipos de vendas tem o mesmo identificador organizacional de venda."
   ]
  },
  {
   "cell_type": "markdown",
   "id": "e4f723f5",
   "metadata": {},
   "source": [
    "#### Variável Temporal"
   ]
  },
  {
   "cell_type": "code",
   "execution_count": 66,
   "id": "897dc232",
   "metadata": {},
   "outputs": [],
   "source": [
    "df['Data'].dt.freq\n",
    "# print(df['Data'].dt.freq)\n"
   ]
  },
  {
   "cell_type": "markdown",
   "id": "ff62199f",
   "metadata": {},
   "source": [
    "Temos a frequência como `None`, o que indica que o pandas não conseguiu detectar uma frequência. Para a análise temporal depois precisaremos arrajar um jeito de arrumar."
   ]
  },
  {
   "cell_type": "code",
   "execution_count": null,
   "id": "bf73c1bc",
   "metadata": {},
   "outputs": [
    {
     "data": {
      "text/plain": [
       "(Timestamp('2015-01-02 00:00:00'), Timestamp('2025-03-31 00:00:00'))"
      ]
     },
     "execution_count": 55,
     "metadata": {},
     "output_type": "execute_result"
    }
   ],
   "source": [
    "df['Data'].min(), df['Data'].max()"
   ]
  },
  {
   "cell_type": "markdown",
   "id": "081b9a46",
   "metadata": {},
   "source": [
    "Começamos com os dados em `02/01/2015` e terminamos em `31/03/2025`."
   ]
  },
  {
   "cell_type": "code",
   "execution_count": 92,
   "id": "5e25935c",
   "metadata": {},
   "outputs": [
    {
     "data": {
      "application/vnd.microsoft.datawrangler.viewer.v0+json": {
       "columns": [
        {
         "name": "Data",
         "rawType": "datetime64[ns]",
         "type": "datetime"
        },
        {
         "name": "0",
         "rawType": "int64",
         "type": "integer"
        }
       ],
       "ref": "0dcb457a-ba89-4e49-b0fb-c148933ae074",
       "rows": [
        [
         "2015-01-02 00:00:00",
         "63"
        ],
        [
         "2015-01-03 00:00:00",
         "60"
        ],
        [
         "2015-01-04 00:00:00",
         "0"
        ],
        [
         "2015-01-05 00:00:00",
         "84"
        ],
        [
         "2015-01-06 00:00:00",
         "101"
        ],
        [
         "2015-01-07 00:00:00",
         "62"
        ],
        [
         "2015-01-08 00:00:00",
         "61"
        ],
        [
         "2015-01-09 00:00:00",
         "52"
        ],
        [
         "2015-01-10 00:00:00",
         "59"
        ],
        [
         "2015-01-11 00:00:00",
         "0"
        ],
        [
         "2015-01-12 00:00:00",
         "66"
        ],
        [
         "2015-01-13 00:00:00",
         "60"
        ],
        [
         "2015-01-14 00:00:00",
         "87"
        ],
        [
         "2015-01-15 00:00:00",
         "90"
        ],
        [
         "2015-01-16 00:00:00",
         "69"
        ],
        [
         "2015-01-17 00:00:00",
         "77"
        ],
        [
         "2015-01-18 00:00:00",
         "0"
        ],
        [
         "2015-01-19 00:00:00",
         "73"
        ],
        [
         "2015-01-20 00:00:00",
         "55"
        ],
        [
         "2015-01-21 00:00:00",
         "84"
        ],
        [
         "2015-01-22 00:00:00",
         "72"
        ],
        [
         "2015-01-23 00:00:00",
         "76"
        ],
        [
         "2015-01-24 00:00:00",
         "89"
        ],
        [
         "2015-01-25 00:00:00",
         "0"
        ],
        [
         "2015-01-26 00:00:00",
         "73"
        ],
        [
         "2015-01-27 00:00:00",
         "49"
        ],
        [
         "2015-01-28 00:00:00",
         "72"
        ],
        [
         "2015-01-29 00:00:00",
         "54"
        ],
        [
         "2015-01-30 00:00:00",
         "83"
        ],
        [
         "2015-01-31 00:00:00",
         "61"
        ],
        [
         "2015-02-01 00:00:00",
         "0"
        ],
        [
         "2015-02-02 00:00:00",
         "58"
        ],
        [
         "2015-02-03 00:00:00",
         "76"
        ],
        [
         "2015-02-04 00:00:00",
         "84"
        ],
        [
         "2015-02-05 00:00:00",
         "49"
        ],
        [
         "2015-02-06 00:00:00",
         "70"
        ],
        [
         "2015-02-07 00:00:00",
         "67"
        ],
        [
         "2015-02-08 00:00:00",
         "0"
        ],
        [
         "2015-02-09 00:00:00",
         "75"
        ],
        [
         "2015-02-10 00:00:00",
         "70"
        ],
        [
         "2015-02-11 00:00:00",
         "105"
        ],
        [
         "2015-02-12 00:00:00",
         "121"
        ],
        [
         "2015-02-13 00:00:00",
         "73"
        ],
        [
         "2015-02-14 00:00:00",
         "76"
        ],
        [
         "2015-02-15 00:00:00",
         "0"
        ],
        [
         "2015-02-16 00:00:00",
         "0"
        ],
        [
         "2015-02-17 00:00:00",
         "0"
        ],
        [
         "2015-02-18 00:00:00",
         "62"
        ],
        [
         "2015-02-19 00:00:00",
         "57"
        ],
        [
         "2015-02-20 00:00:00",
         "79"
        ]
       ],
       "shape": {
        "columns": 1,
        "rows": 3742
       }
      },
      "text/plain": [
       "Data\n",
       "2015-01-02     63\n",
       "2015-01-03     60\n",
       "2015-01-04      0\n",
       "2015-01-05     84\n",
       "2015-01-06    101\n",
       "             ... \n",
       "2025-03-27     52\n",
       "2025-03-28     48\n",
       "2025-03-29     44\n",
       "2025-03-30      0\n",
       "2025-03-31     72\n",
       "Freq: D, Length: 3742, dtype: int64"
      ]
     },
     "execution_count": 92,
     "metadata": {},
     "output_type": "execute_result"
    }
   ],
   "source": [
    "df.set_index('Data').resample('D').size()"
   ]
  },
  {
   "cell_type": "markdown",
   "id": "945a9fb1",
   "metadata": {},
   "source": [
    "Temos datas sem entrada de vendas, pode ser por isso que o pandas não conseguiu detectar a frequência."
   ]
  },
  {
   "cell_type": "code",
   "execution_count": 122,
   "id": "3ae628ad",
   "metadata": {},
   "outputs": [
    {
     "data": {
      "text/plain": [
       "Text(0.5, 1.0, 'Faturamento Mensal')"
      ]
     },
     "execution_count": 122,
     "metadata": {},
     "output_type": "execute_result"
    },
    {
     "data": {
      "image/png": "[encoded data removed]",
      "text/plain": [
       "<Figure size 800x300 with 1 Axes>"
      ]
     },
     "metadata": {},
     "output_type": "display_data"
    }
   ],
   "source": [
    "plt.figure(figsize=(8,3))\n",
    "df.set_index('Data').resample('ME')['Total'].sum().plot()\n",
    "plt.title('Faturamento Mensal')"
   ]
  },
  {
   "cell_type": "markdown",
   "id": "c65fc00d",
   "metadata": {},
   "source": [
    "Apesar de o gráfico ter bastante mudanças, parece, ainda que pouco pelo tamanho, que ele tem uma sazonalidade. Vamos diminuir para 5 anos e ver como se comporta."
   ]
  },
  {
   "cell_type": "code",
   "execution_count": 117,
   "id": "e066c29b",
   "metadata": {},
   "outputs": [],
   "source": [
    "mask = df['Data'].between('2020', '2026')\n",
    "df_filtrado = df.loc[mask]\n"
   ]
  },
  {
   "cell_type": "code",
   "execution_count": 120,
   "id": "2fd49b84",
   "metadata": {},
   "outputs": [
    {
     "data": {
      "text/plain": [
       "<Axes: xlabel='Data'>"
      ]
     },
     "execution_count": 120,
     "metadata": {},
     "output_type": "execute_result"
    },
    {
     "data": {
      "image/png": "[encoded data removed]",
      "text/plain": [
       "<Figure size 800x300 with 1 Axes>"
      ]
     },
     "metadata": {},
     "output_type": "display_data"
    }
   ],
   "source": [
    "plt.figure(figsize=(8,3))\n",
    "df_filtrado.set_index('Data').resample('ME')['Total'].sum().plot()"
   ]
  },
  {
   "cell_type": "markdown",
   "id": "969f6a97",
   "metadata": {},
   "source": [
    "Precisamos fazer uma análise mais complexa sobre a data para entender sua `tendencia`, `sazonalidade` e no futuro realizar `forecasts` de venda."
   ]
  },
  {
   "cell_type": "code",
   "execution_count": 110,
   "id": "aebe26f0",
   "metadata": {},
   "outputs": [
    {
     "data": {
      "image/png": "[encoded data removed]",
      "text/plain": [
       "<Figure size 1500x500 with 1 Axes>"
      ]
     },
     "metadata": {},
     "output_type": "display_data"
    }
   ],
   "source": [
    "vendas_semanais = df.set_index('Data').resample('W')['Total'].sum()\n",
    "\n",
    "plt.figure(figsize=(15,5))\n",
    "plt.plot(vendas_semanais.index, vendas_semanais.values, label='Vendas Semanais', alpha=0.5)\n",
    "plt.plot(vendas_semanais.rolling(52).mean(), label='Média Móvel Anual', color='red')\n",
    "plt.title(\"Evolução das Vendas\")\n",
    "plt.xlabel(\"Data\")\n",
    "plt.ylabel(\"Total de Vendas\")\n",
    "plt.legend()\n",
    "plt.show()"
   ]
  },
  {
   "cell_type": "code",
   "execution_count": null,
   "id": "8aa1049f",
   "metadata": {},
   "outputs": [],
   "source": []
  }
 ],
 "metadata": {
  "kernelspec": {
   "display_name": ".venv",
   "language": "python",
   "name": "python3"
  },
  "language_info": {
   "codemirror_mode": {
    "name": "ipython",
    "version": 3
   },
   "file_extension": ".py",
   "mimetype": "text/x-python",
   "name": "python",
   "nbconvert_exporter": "python",
   "pygments_lexer": "ipython3",
   "version": "3.12.3"
  }
 },
 "nbformat": 4,
 "nbformat_minor": 5
}
