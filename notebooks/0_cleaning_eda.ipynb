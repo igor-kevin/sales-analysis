{
 "cells": [
  {
   "cell_type": "markdown",
   "id": "108ba5f8",
   "metadata": {},
   "source": [
    "# Limpeza e EDA dos dados recebidos\n"
   ]
  },
  {
   "cell_type": "markdown",
   "id": "f2dcbedb",
   "metadata": {},
   "source": [
    "## Imports"
   ]
  },
  {
   "cell_type": "code",
   "execution_count": 1,
   "id": "27bbd158",
   "metadata": {},
   "outputs": [],
   "source": [
    "import pandas as pd\n",
    "import numpy as np"
   ]
  },
  {
   "cell_type": "markdown",
   "id": "fb393719",
   "metadata": {},
   "source": [
    "## Leitura e carregamento dos dados"
   ]
  },
  {
   "cell_type": "code",
   "execution_count": 2,
   "id": "b2440a65",
   "metadata": {},
   "outputs": [
    {
     "data": {
      "application/vnd.microsoft.datawrangler.viewer.v0+json": {
       "columns": [
        {
         "name": "index",
         "rawType": "int64",
         "type": "integer"
        },
        {
         "name": "Data",
         "rawType": "object",
         "type": "string"
        },
        {
         "name": "Produto",
         "rawType": "object",
         "type": "string"
        },
        {
         "name": "Quantidade",
         "rawType": "float64",
         "type": "float"
        },
        {
         "name": "ValorMedio",
         "rawType": "float64",
         "type": "float"
        },
        {
         "name": "Total",
         "rawType": "float64",
         "type": "float"
        },
        {
         "name": "Func",
         "rawType": "int64",
         "type": "integer"
        },
        {
         "name": "Ndoc",
         "rawType": "int64",
         "type": "integer"
        },
        {
         "name": "Tipo",
         "rawType": "object",
         "type": "string"
        },
        {
         "name": "CST",
         "rawType": "int64",
         "type": "integer"
        },
        {
         "name": "NCM",
         "rawType": "int64",
         "type": "integer"
        },
        {
         "name": "Codigo",
         "rawType": "int64",
         "type": "integer"
        },
        {
         "name": "Categoria",
         "rawType": "object",
         "type": "string"
        }
       ],
       "ref": "a5bf8cc4-cc49-4394-a2fb-fbb2cacd3ca6",
       "rows": [
        [
         "0",
         "2015-01-02",
         "OLEO SELENIA SPRINTA 4T 20W-50",
         "1.0",
         "11.7",
         "11.7",
         "4",
         "24039",
         "C",
         "60",
         "27101932",
         "913",
         "OLEO"
        ],
        [
         "1",
         "2015-01-02",
         "PNEU TRAS. BIZ LEVORIN DAKA 80/100X14",
         "1.0",
         "109.25",
         "109.25",
         "3",
         "24049",
         "C",
         "60",
         "40114000",
         "829",
         "PNEU"
        ],
        [
         "2",
         "2015-01-02",
         "CAMARA AR CG/TITAN LEVORIN (SA 18)",
         "1.0",
         "24.61",
         "24.61",
         "4",
         "24039",
         "C",
         "60",
         "40139000",
         "442",
         "CAMARA"
        ],
        [
         "3",
         "2015-01-02",
         "CAMARA AR TRAS. BROS/XLR 250 PIRELLI",
         "1.0",
         "37.75",
         "37.75",
         "4",
         "24043",
         "C",
         "60",
         "40139000",
         "1376",
         "CAMARA"
        ],
        [
         "4",
         "2015-01-02",
         "CABO EMB. KS/ES 2002/08 FAN IMP/CG-83",
         "1.0",
         "10.39",
         "10.39",
         "3",
         "24037",
         "C",
         "60",
         "84831030",
         "2146",
         "CABO"
        ]
       ],
       "shape": {
        "columns": 12,
        "rows": 5
       }
      },
      "text/html": [
       "<div>\n",
       "<style scoped>\n",
       "    .dataframe tbody tr th:only-of-type {\n",
       "        vertical-align: middle;\n",
       "    }\n",
       "\n",
       "    .dataframe tbody tr th {\n",
       "        vertical-align: top;\n",
       "    }\n",
       "\n",
       "    .dataframe thead th {\n",
       "        text-align: right;\n",
       "    }\n",
       "</style>\n",
       "<table border=\"1\" class=\"dataframe\">\n",
       "  <thead>\n",
       "    <tr style=\"text-align: right;\">\n",
       "      <th></th>\n",
       "      <th>Data</th>\n",
       "      <th>Produto</th>\n",
       "      <th>Quantidade</th>\n",
       "      <th>ValorMedio</th>\n",
       "      <th>Total</th>\n",
       "      <th>Func</th>\n",
       "      <th>Ndoc</th>\n",
       "      <th>Tipo</th>\n",
       "      <th>CST</th>\n",
       "      <th>NCM</th>\n",
       "      <th>Codigo</th>\n",
       "      <th>Categoria</th>\n",
       "    </tr>\n",
       "  </thead>\n",
       "  <tbody>\n",
       "    <tr>\n",
       "      <th>0</th>\n",
       "      <td>2015-01-02</td>\n",
       "      <td>OLEO SELENIA SPRINTA 4T 20W-50</td>\n",
       "      <td>1.0</td>\n",
       "      <td>11.70</td>\n",
       "      <td>11.70</td>\n",
       "      <td>4</td>\n",
       "      <td>24039</td>\n",
       "      <td>C</td>\n",
       "      <td>60</td>\n",
       "      <td>27101932</td>\n",
       "      <td>913</td>\n",
       "      <td>OLEO</td>\n",
       "    </tr>\n",
       "    <tr>\n",
       "      <th>1</th>\n",
       "      <td>2015-01-02</td>\n",
       "      <td>PNEU TRAS. BIZ LEVORIN DAKA 80/100X14</td>\n",
       "      <td>1.0</td>\n",
       "      <td>109.25</td>\n",
       "      <td>109.25</td>\n",
       "      <td>3</td>\n",
       "      <td>24049</td>\n",
       "      <td>C</td>\n",
       "      <td>60</td>\n",
       "      <td>40114000</td>\n",
       "      <td>829</td>\n",
       "      <td>PNEU</td>\n",
       "    </tr>\n",
       "    <tr>\n",
       "      <th>2</th>\n",
       "      <td>2015-01-02</td>\n",
       "      <td>CAMARA AR CG/TITAN LEVORIN (SA 18)</td>\n",
       "      <td>1.0</td>\n",
       "      <td>24.61</td>\n",
       "      <td>24.61</td>\n",
       "      <td>4</td>\n",
       "      <td>24039</td>\n",
       "      <td>C</td>\n",
       "      <td>60</td>\n",
       "      <td>40139000</td>\n",
       "      <td>442</td>\n",
       "      <td>CAMARA</td>\n",
       "    </tr>\n",
       "    <tr>\n",
       "      <th>3</th>\n",
       "      <td>2015-01-02</td>\n",
       "      <td>CAMARA AR TRAS. BROS/XLR 250 PIRELLI</td>\n",
       "      <td>1.0</td>\n",
       "      <td>37.75</td>\n",
       "      <td>37.75</td>\n",
       "      <td>4</td>\n",
       "      <td>24043</td>\n",
       "      <td>C</td>\n",
       "      <td>60</td>\n",
       "      <td>40139000</td>\n",
       "      <td>1376</td>\n",
       "      <td>CAMARA</td>\n",
       "    </tr>\n",
       "    <tr>\n",
       "      <th>4</th>\n",
       "      <td>2015-01-02</td>\n",
       "      <td>CABO EMB. KS/ES 2002/08 FAN IMP/CG-83</td>\n",
       "      <td>1.0</td>\n",
       "      <td>10.39</td>\n",
       "      <td>10.39</td>\n",
       "      <td>3</td>\n",
       "      <td>24037</td>\n",
       "      <td>C</td>\n",
       "      <td>60</td>\n",
       "      <td>84831030</td>\n",
       "      <td>2146</td>\n",
       "      <td>CABO</td>\n",
       "    </tr>\n",
       "  </tbody>\n",
       "</table>\n",
       "</div>"
      ],
      "text/plain": [
       "         Data                                Produto  Quantidade  ValorMedio  \\\n",
       "0  2015-01-02         OLEO SELENIA SPRINTA 4T 20W-50         1.0       11.70   \n",
       "1  2015-01-02  PNEU TRAS. BIZ LEVORIN DAKA 80/100X14         1.0      109.25   \n",
       "2  2015-01-02     CAMARA AR CG/TITAN LEVORIN (SA 18)         1.0       24.61   \n",
       "3  2015-01-02   CAMARA AR TRAS. BROS/XLR 250 PIRELLI         1.0       37.75   \n",
       "4  2015-01-02  CABO EMB. KS/ES 2002/08 FAN IMP/CG-83         1.0       10.39   \n",
       "\n",
       "    Total  Func   Ndoc Tipo  CST       NCM  Codigo Categoria  \n",
       "0   11.70     4  24039    C   60  27101932     913      OLEO  \n",
       "1  109.25     3  24049    C   60  40114000     829      PNEU  \n",
       "2   24.61     4  24039    C   60  40139000     442    CAMARA  \n",
       "3   37.75     4  24043    C   60  40139000    1376    CAMARA  \n",
       "4   10.39     3  24037    C   60  84831030    2146      CABO  "
      ]
     },
     "execution_count": 2,
     "metadata": {},
     "output_type": "execute_result"
    }
   ],
   "source": [
    "df = pd.read_csv('../data/vendas_jittered.csv')\n",
    "df.head()"
   ]
  },
  {
   "cell_type": "markdown",
   "id": "698c882f",
   "metadata": {},
   "source": [
    "## Análise"
   ]
  },
  {
   "cell_type": "markdown",
   "id": "ef567b21",
   "metadata": {},
   "source": [
    "### Início da análise estrutural dos dados"
   ]
  },
  {
   "cell_type": "code",
   "execution_count": 7,
   "id": "dc8d5c3a",
   "metadata": {},
   "outputs": [
    {
     "name": "stdout",
     "output_type": "stream",
     "text": [
      "<class 'pandas.core.frame.DataFrame'>\n",
      "RangeIndex: 255895 entries, 0 to 255894\n",
      "Data columns (total 12 columns):\n",
      " #   Column      Non-Null Count   Dtype  \n",
      "---  ------      --------------   -----  \n",
      " 0   Data        255895 non-null  object \n",
      " 1   Produto     255895 non-null  object \n",
      " 2   Quantidade  255895 non-null  float64\n",
      " 3   ValorMedio  255895 non-null  float64\n",
      " 4   Total       255895 non-null  float64\n",
      " 5   Func        255895 non-null  int64  \n",
      " 6   Ndoc        255895 non-null  int64  \n",
      " 7   Tipo        255895 non-null  object \n",
      " 8   CST         255895 non-null  int64  \n",
      " 9   NCM         255895 non-null  int64  \n",
      " 10  Codigo      255895 non-null  int64  \n",
      " 11  Categoria   255895 non-null  object \n",
      "dtypes: float64(3), int64(5), object(4)\n",
      "memory usage: 23.4+ MB\n"
     ]
    }
   ],
   "source": [
    "df.info()"
   ]
  },
  {
   "cell_type": "code",
   "execution_count": 16,
   "id": "e2cb90b1",
   "metadata": {},
   "outputs": [
    {
     "data": {
      "application/vnd.microsoft.datawrangler.viewer.v0+json": {
       "columns": [
        {
         "name": "index",
         "rawType": "object",
         "type": "string"
        },
        {
         "name": "Quantidade",
         "rawType": "float64",
         "type": "float"
        },
        {
         "name": "ValorMedio",
         "rawType": "float64",
         "type": "float"
        },
        {
         "name": "Total",
         "rawType": "float64",
         "type": "float"
        },
        {
         "name": "Func",
         "rawType": "float64",
         "type": "float"
        },
        {
         "name": "Ndoc",
         "rawType": "float64",
         "type": "float"
        },
        {
         "name": "CST",
         "rawType": "float64",
         "type": "float"
        },
        {
         "name": "NCM",
         "rawType": "float64",
         "type": "float"
        },
        {
         "name": "Codigo",
         "rawType": "float64",
         "type": "float"
        }
       ],
       "ref": "d7aaf2c2-f76d-4882-8138-ba03d3d52c5d",
       "rows": [
        [
         "count",
         "255895.0",
         "255895.0",
         "255895.0",
         "255895.0",
         "255895.0",
         "255895.0",
         "255895.0",
         "255895.0"
        ],
        [
         "mean",
         "1.2781101662791379",
         "21.95493272631353",
         "23.40621584095039",
         "3.636096836593134",
         "67053.5547744192",
         "58.28961878895641",
         "68956409.07553488",
         "3055.969561734305"
        ],
        [
         "std",
         "1.0951988231457852",
         "35.574052603809044",
         "38.087844929922824",
         "1.0098036281820448",
         "51968.2506556804",
         "10.749342985013497",
         "22575127.66650423",
         "2518.0625019071963"
        ],
        [
         "min",
         "1.0",
         "0.1",
         "0.1",
         "0.0",
         "1.0",
         "0.0",
         "27101931.0",
         "1.0"
        ],
        [
         "25%",
         "1.0",
         "3.89",
         "4.66",
         "3.0",
         "17108.0",
         "60.0",
         "40169300.0",
         "787.0"
        ],
        [
         "50%",
         "1.0",
         "11.22",
         "12.3",
         "4.0",
         "60796.0",
         "60.0",
         "84213100.0",
         "2635.0"
        ],
        [
         "75%",
         "1.0",
         "22.6",
         "23.66",
         "4.0",
         "111154.5",
         "60.0",
         "87141000.0",
         "5060.0"
        ],
        [
         "max",
         "178.0",
         "762.31",
         "1699.08",
         "9.0",
         "166092.0",
         "260.0",
         "96139000.0",
         "8971.0"
        ]
       ],
       "shape": {
        "columns": 8,
        "rows": 8
       }
      },
      "text/html": [
       "<div>\n",
       "<style scoped>\n",
       "    .dataframe tbody tr th:only-of-type {\n",
       "        vertical-align: middle;\n",
       "    }\n",
       "\n",
       "    .dataframe tbody tr th {\n",
       "        vertical-align: top;\n",
       "    }\n",
       "\n",
       "    .dataframe thead th {\n",
       "        text-align: right;\n",
       "    }\n",
       "</style>\n",
       "<table border=\"1\" class=\"dataframe\">\n",
       "  <thead>\n",
       "    <tr style=\"text-align: right;\">\n",
       "      <th></th>\n",
       "      <th>Quantidade</th>\n",
       "      <th>ValorMedio</th>\n",
       "      <th>Total</th>\n",
       "      <th>Func</th>\n",
       "      <th>Ndoc</th>\n",
       "      <th>CST</th>\n",
       "      <th>NCM</th>\n",
       "      <th>Codigo</th>\n",
       "    </tr>\n",
       "  </thead>\n",
       "  <tbody>\n",
       "    <tr>\n",
       "      <th>count</th>\n",
       "      <td>255895.000000</td>\n",
       "      <td>255895.000000</td>\n",
       "      <td>255895.000000</td>\n",
       "      <td>255895.000000</td>\n",
       "      <td>255895.000000</td>\n",
       "      <td>255895.000000</td>\n",
       "      <td>2.558950e+05</td>\n",
       "      <td>255895.000000</td>\n",
       "    </tr>\n",
       "    <tr>\n",
       "      <th>mean</th>\n",
       "      <td>1.278110</td>\n",
       "      <td>21.954933</td>\n",
       "      <td>23.406216</td>\n",
       "      <td>3.636097</td>\n",
       "      <td>67053.554774</td>\n",
       "      <td>58.289619</td>\n",
       "      <td>6.895641e+07</td>\n",
       "      <td>3055.969562</td>\n",
       "    </tr>\n",
       "    <tr>\n",
       "      <th>std</th>\n",
       "      <td>1.095199</td>\n",
       "      <td>35.574053</td>\n",
       "      <td>38.087845</td>\n",
       "      <td>1.009804</td>\n",
       "      <td>51968.250656</td>\n",
       "      <td>10.749343</td>\n",
       "      <td>2.257513e+07</td>\n",
       "      <td>2518.062502</td>\n",
       "    </tr>\n",
       "    <tr>\n",
       "      <th>min</th>\n",
       "      <td>1.000000</td>\n",
       "      <td>0.100000</td>\n",
       "      <td>0.100000</td>\n",
       "      <td>0.000000</td>\n",
       "      <td>1.000000</td>\n",
       "      <td>0.000000</td>\n",
       "      <td>2.710193e+07</td>\n",
       "      <td>1.000000</td>\n",
       "    </tr>\n",
       "    <tr>\n",
       "      <th>25%</th>\n",
       "      <td>1.000000</td>\n",
       "      <td>3.890000</td>\n",
       "      <td>4.660000</td>\n",
       "      <td>3.000000</td>\n",
       "      <td>17108.000000</td>\n",
       "      <td>60.000000</td>\n",
       "      <td>4.016930e+07</td>\n",
       "      <td>787.000000</td>\n",
       "    </tr>\n",
       "    <tr>\n",
       "      <th>50%</th>\n",
       "      <td>1.000000</td>\n",
       "      <td>11.220000</td>\n",
       "      <td>12.300000</td>\n",
       "      <td>4.000000</td>\n",
       "      <td>60796.000000</td>\n",
       "      <td>60.000000</td>\n",
       "      <td>8.421310e+07</td>\n",
       "      <td>2635.000000</td>\n",
       "    </tr>\n",
       "    <tr>\n",
       "      <th>75%</th>\n",
       "      <td>1.000000</td>\n",
       "      <td>22.600000</td>\n",
       "      <td>23.660000</td>\n",
       "      <td>4.000000</td>\n",
       "      <td>111154.500000</td>\n",
       "      <td>60.000000</td>\n",
       "      <td>8.714100e+07</td>\n",
       "      <td>5060.000000</td>\n",
       "    </tr>\n",
       "    <tr>\n",
       "      <th>max</th>\n",
       "      <td>178.000000</td>\n",
       "      <td>762.310000</td>\n",
       "      <td>1699.080000</td>\n",
       "      <td>9.000000</td>\n",
       "      <td>166092.000000</td>\n",
       "      <td>260.000000</td>\n",
       "      <td>9.613900e+07</td>\n",
       "      <td>8971.000000</td>\n",
       "    </tr>\n",
       "  </tbody>\n",
       "</table>\n",
       "</div>"
      ],
      "text/plain": [
       "          Quantidade     ValorMedio          Total           Func  \\\n",
       "count  255895.000000  255895.000000  255895.000000  255895.000000   \n",
       "mean        1.278110      21.954933      23.406216       3.636097   \n",
       "std         1.095199      35.574053      38.087845       1.009804   \n",
       "min         1.000000       0.100000       0.100000       0.000000   \n",
       "25%         1.000000       3.890000       4.660000       3.000000   \n",
       "50%         1.000000      11.220000      12.300000       4.000000   \n",
       "75%         1.000000      22.600000      23.660000       4.000000   \n",
       "max       178.000000     762.310000    1699.080000       9.000000   \n",
       "\n",
       "                Ndoc            CST           NCM         Codigo  \n",
       "count  255895.000000  255895.000000  2.558950e+05  255895.000000  \n",
       "mean    67053.554774      58.289619  6.895641e+07    3055.969562  \n",
       "std     51968.250656      10.749343  2.257513e+07    2518.062502  \n",
       "min         1.000000       0.000000  2.710193e+07       1.000000  \n",
       "25%     17108.000000      60.000000  4.016930e+07     787.000000  \n",
       "50%     60796.000000      60.000000  8.421310e+07    2635.000000  \n",
       "75%    111154.500000      60.000000  8.714100e+07    5060.000000  \n",
       "max    166092.000000     260.000000  9.613900e+07    8971.000000  "
      ]
     },
     "execution_count": 16,
     "metadata": {},
     "output_type": "execute_result"
    }
   ],
   "source": [
    "df.describe()"
   ]
  },
  {
   "cell_type": "code",
   "execution_count": 15,
   "id": "703dfa3b",
   "metadata": {},
   "outputs": [
    {
     "data": {
      "application/vnd.microsoft.datawrangler.viewer.v0+json": {
       "columns": [
        {
         "name": "index",
         "rawType": "object",
         "type": "string"
        },
        {
         "name": "Data",
         "rawType": "object",
         "type": "unknown"
        },
        {
         "name": "Produto",
         "rawType": "object",
         "type": "unknown"
        },
        {
         "name": "Tipo",
         "rawType": "object",
         "type": "unknown"
        },
        {
         "name": "Categoria",
         "rawType": "object",
         "type": "unknown"
        }
       ],
       "ref": "4f1fb31a-88c0-49c3-90f0-00169b686971",
       "rows": [
        [
         "count",
         "255895",
         "255895",
         "255895",
         "255895"
        ],
        [
         "unique",
         "3054",
         "6582",
         "2",
         "223"
        ],
        [
         "top",
         "2016-09-02",
         "OLEO SELENIA SPRINTA 4T 20W-50",
         "P",
         "OLEO"
        ],
        [
         "freq",
         "286",
         "8937",
         "163009",
         "24361"
        ]
       ],
       "shape": {
        "columns": 4,
        "rows": 4
       }
      },
      "text/html": [
       "<div>\n",
       "<style scoped>\n",
       "    .dataframe tbody tr th:only-of-type {\n",
       "        vertical-align: middle;\n",
       "    }\n",
       "\n",
       "    .dataframe tbody tr th {\n",
       "        vertical-align: top;\n",
       "    }\n",
       "\n",
       "    .dataframe thead th {\n",
       "        text-align: right;\n",
       "    }\n",
       "</style>\n",
       "<table border=\"1\" class=\"dataframe\">\n",
       "  <thead>\n",
       "    <tr style=\"text-align: right;\">\n",
       "      <th></th>\n",
       "      <th>Data</th>\n",
       "      <th>Produto</th>\n",
       "      <th>Tipo</th>\n",
       "      <th>Categoria</th>\n",
       "    </tr>\n",
       "  </thead>\n",
       "  <tbody>\n",
       "    <tr>\n",
       "      <th>count</th>\n",
       "      <td>255895</td>\n",
       "      <td>255895</td>\n",
       "      <td>255895</td>\n",
       "      <td>255895</td>\n",
       "    </tr>\n",
       "    <tr>\n",
       "      <th>unique</th>\n",
       "      <td>3054</td>\n",
       "      <td>6582</td>\n",
       "      <td>2</td>\n",
       "      <td>223</td>\n",
       "    </tr>\n",
       "    <tr>\n",
       "      <th>top</th>\n",
       "      <td>2016-09-02</td>\n",
       "      <td>OLEO SELENIA SPRINTA 4T 20W-50</td>\n",
       "      <td>P</td>\n",
       "      <td>OLEO</td>\n",
       "    </tr>\n",
       "    <tr>\n",
       "      <th>freq</th>\n",
       "      <td>286</td>\n",
       "      <td>8937</td>\n",
       "      <td>163009</td>\n",
       "      <td>24361</td>\n",
       "    </tr>\n",
       "  </tbody>\n",
       "</table>\n",
       "</div>"
      ],
      "text/plain": [
       "              Data                         Produto    Tipo Categoria\n",
       "count       255895                          255895  255895    255895\n",
       "unique        3054                            6582       2       223\n",
       "top     2016-09-02  OLEO SELENIA SPRINTA 4T 20W-50       P      OLEO\n",
       "freq           286                            8937  163009     24361"
      ]
     },
     "execution_count": 15,
     "metadata": {},
     "output_type": "execute_result"
    }
   ],
   "source": [
    "df.describe(include='object')"
   ]
  },
  {
   "cell_type": "markdown",
   "id": "ee11a6b2",
   "metadata": {},
   "source": [
    "### Conversão dos dados necessários\n",
    "\n",
    "Podemos ver que temos que categorizar os Funcinoários, converter Data para datetime e mudar quantidade para valores inteiros, não se vende \"valores quebrados\" de peças."
   ]
  },
  {
   "cell_type": "code",
   "execution_count": 18,
   "id": "4b05e328",
   "metadata": {},
   "outputs": [],
   "source": [
    "df['Func'] = df['Func'].astype('category')\n",
    "df['Data'] = pd.to_datetime(df['Data'], format='%Y-%m-%d')"
   ]
  },
  {
   "cell_type": "code",
   "execution_count": 19,
   "id": "d5eb16aa",
   "metadata": {},
   "outputs": [
    {
     "data": {
      "application/vnd.microsoft.datawrangler.viewer.v0+json": {
       "columns": [
        {
         "name": "index",
         "rawType": "int64",
         "type": "integer"
        },
        {
         "name": "Data",
         "rawType": "datetime64[ns]",
         "type": "datetime"
        },
        {
         "name": "Produto",
         "rawType": "object",
         "type": "string"
        },
        {
         "name": "Quantidade",
         "rawType": "float64",
         "type": "float"
        },
        {
         "name": "ValorMedio",
         "rawType": "float64",
         "type": "float"
        },
        {
         "name": "Total",
         "rawType": "float64",
         "type": "float"
        },
        {
         "name": "Func",
         "rawType": "category",
         "type": "unknown"
        },
        {
         "name": "Ndoc",
         "rawType": "int64",
         "type": "integer"
        },
        {
         "name": "Tipo",
         "rawType": "object",
         "type": "string"
        },
        {
         "name": "CST",
         "rawType": "int64",
         "type": "integer"
        },
        {
         "name": "NCM",
         "rawType": "int64",
         "type": "integer"
        },
        {
         "name": "Codigo",
         "rawType": "int64",
         "type": "integer"
        },
        {
         "name": "Categoria",
         "rawType": "object",
         "type": "string"
        }
       ],
       "ref": "ecac79ba-fdde-4c42-8fb7-f8bc275ad6fb",
       "rows": [
        [
         "0",
         "2015-01-02 00:00:00",
         "OLEO SELENIA SPRINTA 4T 20W-50",
         "1.0",
         "11.7",
         "11.7",
         "4",
         "24039",
         "C",
         "60",
         "27101932",
         "913",
         "OLEO"
        ],
        [
         "1",
         "2015-01-02 00:00:00",
         "PNEU TRAS. BIZ LEVORIN DAKA 80/100X14",
         "1.0",
         "109.25",
         "109.25",
         "3",
         "24049",
         "C",
         "60",
         "40114000",
         "829",
         "PNEU"
        ],
        [
         "2",
         "2015-01-02 00:00:00",
         "CAMARA AR CG/TITAN LEVORIN (SA 18)",
         "1.0",
         "24.61",
         "24.61",
         "4",
         "24039",
         "C",
         "60",
         "40139000",
         "442",
         "CAMARA"
        ],
        [
         "3",
         "2015-01-02 00:00:00",
         "CAMARA AR TRAS. BROS/XLR 250 PIRELLI",
         "1.0",
         "37.75",
         "37.75",
         "4",
         "24043",
         "C",
         "60",
         "40139000",
         "1376",
         "CAMARA"
        ],
        [
         "4",
         "2015-01-02 00:00:00",
         "CABO EMB. KS/ES 2002/08 FAN IMP/CG-83",
         "1.0",
         "10.39",
         "10.39",
         "3",
         "24037",
         "C",
         "60",
         "84831030",
         "2146",
         "CABO"
        ]
       ],
       "shape": {
        "columns": 12,
        "rows": 5
       }
      },
      "text/html": [
       "<div>\n",
       "<style scoped>\n",
       "    .dataframe tbody tr th:only-of-type {\n",
       "        vertical-align: middle;\n",
       "    }\n",
       "\n",
       "    .dataframe tbody tr th {\n",
       "        vertical-align: top;\n",
       "    }\n",
       "\n",
       "    .dataframe thead th {\n",
       "        text-align: right;\n",
       "    }\n",
       "</style>\n",
       "<table border=\"1\" class=\"dataframe\">\n",
       "  <thead>\n",
       "    <tr style=\"text-align: right;\">\n",
       "      <th></th>\n",
       "      <th>Data</th>\n",
       "      <th>Produto</th>\n",
       "      <th>Quantidade</th>\n",
       "      <th>ValorMedio</th>\n",
       "      <th>Total</th>\n",
       "      <th>Func</th>\n",
       "      <th>Ndoc</th>\n",
       "      <th>Tipo</th>\n",
       "      <th>CST</th>\n",
       "      <th>NCM</th>\n",
       "      <th>Codigo</th>\n",
       "      <th>Categoria</th>\n",
       "    </tr>\n",
       "  </thead>\n",
       "  <tbody>\n",
       "    <tr>\n",
       "      <th>0</th>\n",
       "      <td>2015-01-02</td>\n",
       "      <td>OLEO SELENIA SPRINTA 4T 20W-50</td>\n",
       "      <td>1.0</td>\n",
       "      <td>11.70</td>\n",
       "      <td>11.70</td>\n",
       "      <td>4</td>\n",
       "      <td>24039</td>\n",
       "      <td>C</td>\n",
       "      <td>60</td>\n",
       "      <td>27101932</td>\n",
       "      <td>913</td>\n",
       "      <td>OLEO</td>\n",
       "    </tr>\n",
       "    <tr>\n",
       "      <th>1</th>\n",
       "      <td>2015-01-02</td>\n",
       "      <td>PNEU TRAS. BIZ LEVORIN DAKA 80/100X14</td>\n",
       "      <td>1.0</td>\n",
       "      <td>109.25</td>\n",
       "      <td>109.25</td>\n",
       "      <td>3</td>\n",
       "      <td>24049</td>\n",
       "      <td>C</td>\n",
       "      <td>60</td>\n",
       "      <td>40114000</td>\n",
       "      <td>829</td>\n",
       "      <td>PNEU</td>\n",
       "    </tr>\n",
       "    <tr>\n",
       "      <th>2</th>\n",
       "      <td>2015-01-02</td>\n",
       "      <td>CAMARA AR CG/TITAN LEVORIN (SA 18)</td>\n",
       "      <td>1.0</td>\n",
       "      <td>24.61</td>\n",
       "      <td>24.61</td>\n",
       "      <td>4</td>\n",
       "      <td>24039</td>\n",
       "      <td>C</td>\n",
       "      <td>60</td>\n",
       "      <td>40139000</td>\n",
       "      <td>442</td>\n",
       "      <td>CAMARA</td>\n",
       "    </tr>\n",
       "    <tr>\n",
       "      <th>3</th>\n",
       "      <td>2015-01-02</td>\n",
       "      <td>CAMARA AR TRAS. BROS/XLR 250 PIRELLI</td>\n",
       "      <td>1.0</td>\n",
       "      <td>37.75</td>\n",
       "      <td>37.75</td>\n",
       "      <td>4</td>\n",
       "      <td>24043</td>\n",
       "      <td>C</td>\n",
       "      <td>60</td>\n",
       "      <td>40139000</td>\n",
       "      <td>1376</td>\n",
       "      <td>CAMARA</td>\n",
       "    </tr>\n",
       "    <tr>\n",
       "      <th>4</th>\n",
       "      <td>2015-01-02</td>\n",
       "      <td>CABO EMB. KS/ES 2002/08 FAN IMP/CG-83</td>\n",
       "      <td>1.0</td>\n",
       "      <td>10.39</td>\n",
       "      <td>10.39</td>\n",
       "      <td>3</td>\n",
       "      <td>24037</td>\n",
       "      <td>C</td>\n",
       "      <td>60</td>\n",
       "      <td>84831030</td>\n",
       "      <td>2146</td>\n",
       "      <td>CABO</td>\n",
       "    </tr>\n",
       "  </tbody>\n",
       "</table>\n",
       "</div>"
      ],
      "text/plain": [
       "        Data                                Produto  Quantidade  ValorMedio  \\\n",
       "0 2015-01-02         OLEO SELENIA SPRINTA 4T 20W-50         1.0       11.70   \n",
       "1 2015-01-02  PNEU TRAS. BIZ LEVORIN DAKA 80/100X14         1.0      109.25   \n",
       "2 2015-01-02     CAMARA AR CG/TITAN LEVORIN (SA 18)         1.0       24.61   \n",
       "3 2015-01-02   CAMARA AR TRAS. BROS/XLR 250 PIRELLI         1.0       37.75   \n",
       "4 2015-01-02  CABO EMB. KS/ES 2002/08 FAN IMP/CG-83         1.0       10.39   \n",
       "\n",
       "    Total Func   Ndoc Tipo  CST       NCM  Codigo Categoria  \n",
       "0   11.70    4  24039    C   60  27101932     913      OLEO  \n",
       "1  109.25    3  24049    C   60  40114000     829      PNEU  \n",
       "2   24.61    4  24039    C   60  40139000     442    CAMARA  \n",
       "3   37.75    4  24043    C   60  40139000    1376    CAMARA  \n",
       "4   10.39    3  24037    C   60  84831030    2146      CABO  "
      ]
     },
     "execution_count": 19,
     "metadata": {},
     "output_type": "execute_result"
    }
   ],
   "source": [
    "df.head()"
   ]
  },
  {
   "cell_type": "code",
   "execution_count": 35,
   "id": "b913b4be",
   "metadata": {},
   "outputs": [],
   "source": [
    "df['Quantidade'] = df['Quantidade'].astype(int)"
   ]
  },
  {
   "cell_type": "code",
   "execution_count": 36,
   "id": "a7018ff1",
   "metadata": {},
   "outputs": [
    {
     "name": "stdout",
     "output_type": "stream",
     "text": [
      "<class 'pandas.core.frame.DataFrame'>\n",
      "RangeIndex: 255895 entries, 0 to 255894\n",
      "Data columns (total 12 columns):\n",
      " #   Column      Non-Null Count   Dtype         \n",
      "---  ------      --------------   -----         \n",
      " 0   Data        255895 non-null  datetime64[ns]\n",
      " 1   Produto     255895 non-null  object        \n",
      " 2   Quantidade  255895 non-null  int64         \n",
      " 3   ValorMedio  255895 non-null  float64       \n",
      " 4   Total       255895 non-null  float64       \n",
      " 5   Func        255895 non-null  category      \n",
      " 6   Ndoc        255895 non-null  int64         \n",
      " 7   Tipo        255895 non-null  object        \n",
      " 8   CST         255895 non-null  int64         \n",
      " 9   NCM         255895 non-null  int64         \n",
      " 10  Codigo      255895 non-null  int64         \n",
      " 11  Categoria   255895 non-null  object        \n",
      "dtypes: category(1), datetime64[ns](1), float64(2), int64(5), object(3)\n",
      "memory usage: 21.7+ MB\n"
     ]
    }
   ],
   "source": [
    "df.info()"
   ]
  },
  {
   "cell_type": "markdown",
   "id": "070942be",
   "metadata": {},
   "source": [
    "### Contagem dos valores nulos"
   ]
  },
  {
   "cell_type": "code",
   "execution_count": 20,
   "id": "bfb4adc1",
   "metadata": {},
   "outputs": [
    {
     "data": {
      "application/vnd.microsoft.datawrangler.viewer.v0+json": {
       "columns": [
        {
         "name": "index",
         "rawType": "object",
         "type": "string"
        },
        {
         "name": "0",
         "rawType": "int64",
         "type": "integer"
        }
       ],
       "ref": "f92f6a77-aa77-4895-8795-f0c1303510c8",
       "rows": [
        [
         "Data",
         "0"
        ],
        [
         "Produto",
         "0"
        ],
        [
         "Quantidade",
         "0"
        ],
        [
         "ValorMedio",
         "0"
        ],
        [
         "Total",
         "0"
        ],
        [
         "Func",
         "0"
        ],
        [
         "Ndoc",
         "0"
        ],
        [
         "Tipo",
         "0"
        ],
        [
         "CST",
         "0"
        ],
        [
         "NCM",
         "0"
        ],
        [
         "Codigo",
         "0"
        ],
        [
         "Categoria",
         "0"
        ]
       ],
       "shape": {
        "columns": 1,
        "rows": 12
       }
      },
      "text/plain": [
       "Data          0\n",
       "Produto       0\n",
       "Quantidade    0\n",
       "ValorMedio    0\n",
       "Total         0\n",
       "Func          0\n",
       "Ndoc          0\n",
       "Tipo          0\n",
       "CST           0\n",
       "NCM           0\n",
       "Codigo        0\n",
       "Categoria     0\n",
       "dtype: int64"
      ]
     },
     "execution_count": 20,
     "metadata": {},
     "output_type": "execute_result"
    }
   ],
   "source": [
    "df.isna().sum()"
   ]
  },
  {
   "cell_type": "markdown",
   "id": "0fc6fe80",
   "metadata": {},
   "source": [
    "ok!\n",
    "---"
   ]
  },
  {
   "cell_type": "code",
   "execution_count": null,
   "id": "e8e2b570",
   "metadata": {},
   "outputs": [],
   "source": []
  }
 ],
 "metadata": {
  "kernelspec": {
   "display_name": ".venv",
   "language": "python",
   "name": "python3"
  },
  "language_info": {
   "codemirror_mode": {
    "name": "ipython",
    "version": 3
   },
   "file_extension": ".py",
   "mimetype": "text/x-python",
   "name": "python",
   "nbconvert_exporter": "python",
   "pygments_lexer": "ipython3",
   "version": "3.12.3"
  }
 },
 "nbformat": 4,
 "nbformat_minor": 5
}
